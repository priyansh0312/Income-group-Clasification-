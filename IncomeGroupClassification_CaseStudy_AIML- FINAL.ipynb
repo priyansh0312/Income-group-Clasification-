{
 "cells": [
  {
   "cell_type": "markdown",
   "id": "emerging-diagnosis",
   "metadata": {
    "id": "HXJ7MT8d9WJL"
   },
   "source": [
    "## Income Group Classification"
   ]
  },
  {
   "cell_type": "markdown",
   "id": "prostate-workplace",
   "metadata": {
    "id": "2pM66Y9j9WJQ"
   },
   "source": [
    "## Context \n",
    "DeltaSquare is an NGO that works with the Government on matters of social policy to bring about a change in the lives of underprivileged sections of society. They are given a task of coming up with a policy framework by analyzing a dataset that the government received from WHO. You as a data scientist at DeltaSquare are tasked with solving this problem and sharing a proposal for the government. "
   ]
  },
  {
   "cell_type": "markdown",
   "id": "metallic-portugal",
   "metadata": {
    "id": "Z5BrK2Fo9WJS"
   },
   "source": [
    "### Objective\n",
    "\n",
    "1. What are the different factors that influence the income of an individual?\n",
    "\n",
    "2. To build a prediction model that can help the government formulate policies for the right pockets of the society."
   ]
  },
  {
   "cell_type": "markdown",
   "id": "noted-austria",
   "metadata": {
    "id": "WNvGGvrD9WJS"
   },
   "source": [
    "### Dataset\n",
    "\n",
    "The data contains characteristics of the people\n",
    "\n",
    "* age: continuous - age of a Person \n",
    "* workclass: Where does a person works - categorical -Private, Self-emp-not-inc, Self-emp-inc, Federal-gov, Local-gov, State-gov, Without-pay, Never-worked.\n",
    "* fnlwgt: continuous - Weight assigned by Current Population Survey (CPS) - People with similar demographic characteristics should have similar weights since it is a feature aimed to allocate similar weights to people with similar demographic characteristics.\n",
    "* education: Degree the person has - Bachelors, Some-college, 11th, HS-grad, Prof-school, Assoc-acdm, Assoc-voc, 9th, 7th-8th, 12th, Masters, 1st-4th, 10th, Doctorate, 5th-6th, Preschool.\n",
    "* education-num: no. of years a person studied - continuous.\n",
    "* marital-status: Married-civ-spouse, Divorced, Never-married, Separated, Widowed, Married-spouse-absent, Married-AF-spouse.\n",
    "* occupation: Tech-support, Craft-repair, Other-service, Sales, Exec-managerial, Prof-specialty, Handlers-cleaners, Machine-op-inspct, Adm-clerical, Farming-fishing, Transport-moving, Priv-house-serv, Protective-serv, Armed-Forces.\n",
    "* race: White, Asian-Pac-Islander, Amer-Indian-Eskimo, Other, Black.\n",
    "* sex: Female, Male.\n",
    "* capital-gain: Investment gain of the person other than salary - continuous\n",
    "* capital-loss: Loss from investments - continuous\n",
    "* hours-per-week: No. of hours a person works - continuous.\n",
    "* native-country: United-States, Cambodia, England, Puerto-Rico, Canada, Germany, Outlying-US(Guam-USVI-etc), India, Japan, Greece, South, China, Cuba, Iran, Honduras, Philippines, Italy, Poland, Jamaica, Vietnam, Mexico, Portugal, Ireland, France, Dominican-Republic, Laos, Ecuador, Taiwan, Haiti, Columbia, Hungary, Guatemala, Nicaragua, Scotland, Thailand, Yugoslavia, El-Salvador, Trinidad&Tobago, Peru, Hong, Holand-Netherlands.\n",
    "* salary: >50K, <=50K (dependent variable, the salary is in Dollars per year)"
   ]
  },
  {
   "cell_type": "markdown",
   "id": "77f0f0e4",
   "metadata": {},
   "source": [
    "## EDA and preprocessing approach:\n",
    "1. load libraries and data\n",
    "2. check for null values\n",
    "3. check for numerical and categorical varirables\n",
    "4. UNIVARIATE ANALYSIS\n",
    "    - check for skewness of numerical vairables\n",
    "    - check for outliers and treat outliers\n",
    "    - check for cardinality of categorical vairables\n",
    "5. BIVARIATE ANALYSIS\n",
    "    - check for relation with the dependant vairable\n"
   ]
  },
  {
   "cell_type": "markdown",
   "id": "crazy-operations",
   "metadata": {
    "id": "ZzsW_RNeuNEx"
   },
   "source": [
    "# Loading Libraries and importing dataset"
   ]
  },
  {
   "cell_type": "code",
   "execution_count": 3,
   "id": "eda92462",
   "metadata": {},
   "outputs": [],
   "source": [
    "# Visualisation and dataframes\n",
    "import numpy as np\n",
    "import pandas as pd\n",
    "import seaborn as sns\n",
    "import matplotlib.pyplot as plt\n",
    "%matplotlib inline\n",
    "\n",
    "\n",
    "# train-test-split, scaling, encoding \n",
    "from sklearn.model_selection import train_test_split\n",
    "from sklearn.preprocessing import StandardScaler\n",
    "\n",
    "\n",
    "# Classification Models\n",
    "from sklearn.linear_model import LogisticRegression\n",
    "from sklearn.svm import SVC\n",
    "from sklearn.ensemble import RandomForestClassifier\n",
    "\n",
    "\n",
    "# metrics\n",
    "from sklearn import metrics\n",
    "from sklearn.metrics import (accuracy_score,\n",
    "                            recall_score,\n",
    "                            precision_score, \n",
    "                            f1_score,\n",
    "                            precision_recall_curve,\n",
    "                            precision_recall_fscore_support, \n",
    "                            classification_report, \n",
    "                            confusion_matrix,\n",
    "                            roc_auc_score,\n",
    "                            roc_curve,\n",
    "                            plot_confusion_matrix)\n",
    "\n",
    "\n",
    "# Warnings\n",
    "import warnings\n",
    "\n",
    "warnings.filterwarnings('ignore')\n",
    "pd.pandas.set_option('display.max_colwidth',None)"
   ]
  },
  {
   "cell_type": "markdown",
   "id": "decreased-cambodia",
   "metadata": {},
   "source": [
    "### Note: The first section of the notebook is the section that has been covered multiple times in the previous case studies.  For this discussion this part can be skipped and we can directly refer to this **<a href = #link1>summary</a>** of data cleaning steps and observations from EDA."
   ]
  },
  {
   "cell_type": "code",
   "execution_count": 4,
   "id": "alpha-endorsement",
   "metadata": {
    "id": "STzpWgWu9WJZ"
   },
   "outputs": [],
   "source": [
    "data = pd.read_csv(\"who_data.csv\")"
   ]
  },
  {
   "cell_type": "code",
   "execution_count": 5,
   "id": "fifty-prime",
   "metadata": {},
   "outputs": [],
   "source": [
    "# copying data to another variable to avoid any changes to original data\n",
    "df = data.copy()"
   ]
  },
  {
   "cell_type": "markdown",
   "id": "egyptian-workstation",
   "metadata": {},
   "source": [
    "# EDA and Data Preprocessing"
   ]
  },
  {
   "cell_type": "code",
   "execution_count": 6,
   "id": "interpreted-publisher",
   "metadata": {
    "colab": {
     "base_uri": "https://localhost:8080/",
     "height": 306
    },
    "id": "frKZJfik9WJc",
    "outputId": "80196792-f0f7-4482-d9be-ba731e441e23"
   },
   "outputs": [
    {
     "name": "stdout",
     "output_type": "stream",
     "text": [
      "(32561, 15)\n"
     ]
    },
    {
     "data": {
      "text/html": [
       "<div>\n",
       "<style scoped>\n",
       "    .dataframe tbody tr th:only-of-type {\n",
       "        vertical-align: middle;\n",
       "    }\n",
       "\n",
       "    .dataframe tbody tr th {\n",
       "        vertical-align: top;\n",
       "    }\n",
       "\n",
       "    .dataframe thead th {\n",
       "        text-align: right;\n",
       "    }\n",
       "</style>\n",
       "<table border=\"1\" class=\"dataframe\">\n",
       "  <thead>\n",
       "    <tr style=\"text-align: right;\">\n",
       "      <th></th>\n",
       "      <th>age</th>\n",
       "      <th>workclass</th>\n",
       "      <th>fnlwgt</th>\n",
       "      <th>education</th>\n",
       "      <th>education-no. of years</th>\n",
       "      <th>marital status</th>\n",
       "      <th>occupation</th>\n",
       "      <th>relationship</th>\n",
       "      <th>race</th>\n",
       "      <th>sex</th>\n",
       "      <th>capital gain</th>\n",
       "      <th>capital loss</th>\n",
       "      <th>working hours per week</th>\n",
       "      <th>native-country</th>\n",
       "      <th>salary</th>\n",
       "    </tr>\n",
       "  </thead>\n",
       "  <tbody>\n",
       "    <tr>\n",
       "      <th>0</th>\n",
       "      <td>39</td>\n",
       "      <td>State-gov</td>\n",
       "      <td>77516</td>\n",
       "      <td>Bachelors</td>\n",
       "      <td>13</td>\n",
       "      <td>Never-married</td>\n",
       "      <td>Adm-clerical</td>\n",
       "      <td>Not-in-family</td>\n",
       "      <td>White</td>\n",
       "      <td>Male</td>\n",
       "      <td>2174</td>\n",
       "      <td>0</td>\n",
       "      <td>40</td>\n",
       "      <td>United-States</td>\n",
       "      <td>&lt;=50K</td>\n",
       "    </tr>\n",
       "    <tr>\n",
       "      <th>1</th>\n",
       "      <td>50</td>\n",
       "      <td>Self-emp-not-inc</td>\n",
       "      <td>83311</td>\n",
       "      <td>Bachelors</td>\n",
       "      <td>13</td>\n",
       "      <td>Married-civ-spouse</td>\n",
       "      <td>Exec-managerial</td>\n",
       "      <td>Husband</td>\n",
       "      <td>White</td>\n",
       "      <td>Male</td>\n",
       "      <td>0</td>\n",
       "      <td>0</td>\n",
       "      <td>13</td>\n",
       "      <td>United-States</td>\n",
       "      <td>&lt;=50K</td>\n",
       "    </tr>\n",
       "    <tr>\n",
       "      <th>2</th>\n",
       "      <td>38</td>\n",
       "      <td>Private</td>\n",
       "      <td>215646</td>\n",
       "      <td>HS-grad</td>\n",
       "      <td>9</td>\n",
       "      <td>Divorced</td>\n",
       "      <td>Handlers-cleaners</td>\n",
       "      <td>Not-in-family</td>\n",
       "      <td>White</td>\n",
       "      <td>Male</td>\n",
       "      <td>0</td>\n",
       "      <td>0</td>\n",
       "      <td>40</td>\n",
       "      <td>United-States</td>\n",
       "      <td>&lt;=50K</td>\n",
       "    </tr>\n",
       "    <tr>\n",
       "      <th>3</th>\n",
       "      <td>53</td>\n",
       "      <td>Private</td>\n",
       "      <td>234721</td>\n",
       "      <td>11th</td>\n",
       "      <td>7</td>\n",
       "      <td>Married-civ-spouse</td>\n",
       "      <td>Handlers-cleaners</td>\n",
       "      <td>Husband</td>\n",
       "      <td>Black</td>\n",
       "      <td>Male</td>\n",
       "      <td>0</td>\n",
       "      <td>0</td>\n",
       "      <td>40</td>\n",
       "      <td>United-States</td>\n",
       "      <td>&lt;=50K</td>\n",
       "    </tr>\n",
       "    <tr>\n",
       "      <th>4</th>\n",
       "      <td>28</td>\n",
       "      <td>Private</td>\n",
       "      <td>338409</td>\n",
       "      <td>Bachelors</td>\n",
       "      <td>13</td>\n",
       "      <td>Married-civ-spouse</td>\n",
       "      <td>Prof-specialty</td>\n",
       "      <td>Wife</td>\n",
       "      <td>Black</td>\n",
       "      <td>Female</td>\n",
       "      <td>0</td>\n",
       "      <td>0</td>\n",
       "      <td>40</td>\n",
       "      <td>Cuba</td>\n",
       "      <td>&lt;=50K</td>\n",
       "    </tr>\n",
       "  </tbody>\n",
       "</table>\n",
       "</div>"
      ],
      "text/plain": [
       "   age          workclass  fnlwgt   education  education-no. of years  \\\n",
       "0   39          State-gov   77516   Bachelors                      13   \n",
       "1   50   Self-emp-not-inc   83311   Bachelors                      13   \n",
       "2   38            Private  215646     HS-grad                       9   \n",
       "3   53            Private  234721        11th                       7   \n",
       "4   28            Private  338409   Bachelors                      13   \n",
       "\n",
       "        marital status          occupation    relationship    race      sex  \\\n",
       "0        Never-married        Adm-clerical   Not-in-family   White     Male   \n",
       "1   Married-civ-spouse     Exec-managerial         Husband   White     Male   \n",
       "2             Divorced   Handlers-cleaners   Not-in-family   White     Male   \n",
       "3   Married-civ-spouse   Handlers-cleaners         Husband   Black     Male   \n",
       "4   Married-civ-spouse      Prof-specialty            Wife   Black   Female   \n",
       "\n",
       "   capital gain  capital loss  working hours per week  native-country  salary  \n",
       "0          2174             0                      40   United-States   <=50K  \n",
       "1             0             0                      13   United-States   <=50K  \n",
       "2             0             0                      40   United-States   <=50K  \n",
       "3             0             0                      40   United-States   <=50K  \n",
       "4             0             0                      40            Cuba   <=50K  "
      ]
     },
     "execution_count": 6,
     "metadata": {},
     "output_type": "execute_result"
    }
   ],
   "source": [
    "print(df.shape)\n",
    "df.head()"
   ]
  },
  {
   "cell_type": "markdown",
   "id": "abroad-virgin",
   "metadata": {},
   "source": [
    "* The dataset has 32561 rows and 14 columns "
   ]
  },
  {
   "cell_type": "code",
   "execution_count": 7,
   "id": "949b0104",
   "metadata": {},
   "outputs": [
    {
     "data": {
      "text/plain": [
       "age                       0\n",
       "workclass                 0\n",
       "fnlwgt                    0\n",
       "education                 0\n",
       "education-no. of years    0\n",
       "marital status            0\n",
       "occupation                0\n",
       "relationship              0\n",
       "race                      0\n",
       "sex                       0\n",
       "capital gain              0\n",
       "capital loss              0\n",
       "working hours per week    0\n",
       "native-country            0\n",
       "salary                    0\n",
       "dtype: int64"
      ]
     },
     "execution_count": 7,
     "metadata": {},
     "output_type": "execute_result"
    }
   ],
   "source": [
    "df.isnull().sum()"
   ]
  },
  {
   "cell_type": "markdown",
   "id": "5b343b9e",
   "metadata": {},
   "source": [
    "- there are no null values in the dataset"
   ]
  },
  {
   "cell_type": "code",
   "execution_count": 8,
   "id": "3797e225",
   "metadata": {
    "scrolled": true
   },
   "outputs": [
    {
     "data": {
      "text/html": [
       "<div>\n",
       "<style scoped>\n",
       "    .dataframe tbody tr th:only-of-type {\n",
       "        vertical-align: middle;\n",
       "    }\n",
       "\n",
       "    .dataframe tbody tr th {\n",
       "        vertical-align: top;\n",
       "    }\n",
       "\n",
       "    .dataframe thead th {\n",
       "        text-align: right;\n",
       "    }\n",
       "</style>\n",
       "<table border=\"1\" class=\"dataframe\">\n",
       "  <thead>\n",
       "    <tr style=\"text-align: right;\">\n",
       "      <th></th>\n",
       "      <th>count</th>\n",
       "      <th>mean</th>\n",
       "      <th>std</th>\n",
       "      <th>min</th>\n",
       "      <th>25%</th>\n",
       "      <th>50%</th>\n",
       "      <th>75%</th>\n",
       "      <th>max</th>\n",
       "    </tr>\n",
       "  </thead>\n",
       "  <tbody>\n",
       "    <tr>\n",
       "      <th>age</th>\n",
       "      <td>32561.0</td>\n",
       "      <td>38.581647</td>\n",
       "      <td>13.640433</td>\n",
       "      <td>17.0</td>\n",
       "      <td>28.0</td>\n",
       "      <td>37.0</td>\n",
       "      <td>48.0</td>\n",
       "      <td>90.0</td>\n",
       "    </tr>\n",
       "    <tr>\n",
       "      <th>fnlwgt</th>\n",
       "      <td>32561.0</td>\n",
       "      <td>189778.366512</td>\n",
       "      <td>105549.977697</td>\n",
       "      <td>12285.0</td>\n",
       "      <td>117827.0</td>\n",
       "      <td>178356.0</td>\n",
       "      <td>237051.0</td>\n",
       "      <td>1484705.0</td>\n",
       "    </tr>\n",
       "    <tr>\n",
       "      <th>education-no. of years</th>\n",
       "      <td>32561.0</td>\n",
       "      <td>10.080679</td>\n",
       "      <td>2.572720</td>\n",
       "      <td>1.0</td>\n",
       "      <td>9.0</td>\n",
       "      <td>10.0</td>\n",
       "      <td>12.0</td>\n",
       "      <td>16.0</td>\n",
       "    </tr>\n",
       "    <tr>\n",
       "      <th>capital gain</th>\n",
       "      <td>32561.0</td>\n",
       "      <td>1077.648844</td>\n",
       "      <td>7385.292085</td>\n",
       "      <td>0.0</td>\n",
       "      <td>0.0</td>\n",
       "      <td>0.0</td>\n",
       "      <td>0.0</td>\n",
       "      <td>99999.0</td>\n",
       "    </tr>\n",
       "    <tr>\n",
       "      <th>capital loss</th>\n",
       "      <td>32561.0</td>\n",
       "      <td>87.303830</td>\n",
       "      <td>402.960219</td>\n",
       "      <td>0.0</td>\n",
       "      <td>0.0</td>\n",
       "      <td>0.0</td>\n",
       "      <td>0.0</td>\n",
       "      <td>4356.0</td>\n",
       "    </tr>\n",
       "    <tr>\n",
       "      <th>working hours per week</th>\n",
       "      <td>32561.0</td>\n",
       "      <td>40.437456</td>\n",
       "      <td>12.347429</td>\n",
       "      <td>1.0</td>\n",
       "      <td>40.0</td>\n",
       "      <td>40.0</td>\n",
       "      <td>45.0</td>\n",
       "      <td>99.0</td>\n",
       "    </tr>\n",
       "  </tbody>\n",
       "</table>\n",
       "</div>"
      ],
      "text/plain": [
       "                          count           mean            std      min  \\\n",
       "age                     32561.0      38.581647      13.640433     17.0   \n",
       "fnlwgt                  32561.0  189778.366512  105549.977697  12285.0   \n",
       "education-no. of years  32561.0      10.080679       2.572720      1.0   \n",
       "capital gain            32561.0    1077.648844    7385.292085      0.0   \n",
       "capital loss            32561.0      87.303830     402.960219      0.0   \n",
       "working hours per week  32561.0      40.437456      12.347429      1.0   \n",
       "\n",
       "                             25%       50%       75%        max  \n",
       "age                         28.0      37.0      48.0       90.0  \n",
       "fnlwgt                  117827.0  178356.0  237051.0  1484705.0  \n",
       "education-no. of years       9.0      10.0      12.0       16.0  \n",
       "capital gain                 0.0       0.0       0.0    99999.0  \n",
       "capital loss                 0.0       0.0       0.0     4356.0  \n",
       "working hours per week      40.0      40.0      45.0       99.0  "
      ]
     },
     "execution_count": 8,
     "metadata": {},
     "output_type": "execute_result"
    }
   ],
   "source": [
    "df.describe().T"
   ]
  },
  {
   "cell_type": "code",
   "execution_count": 9,
   "id": "sitting-rough",
   "metadata": {
    "colab": {
     "base_uri": "https://localhost:8080/"
    },
    "id": "UXqzxZrw9WJg",
    "outputId": "4d1e0b70-4911-4e63-d263-6168fa386b65"
   },
   "outputs": [
    {
     "name": "stdout",
     "output_type": "stream",
     "text": [
      "<class 'pandas.core.frame.DataFrame'>\n",
      "RangeIndex: 32561 entries, 0 to 32560\n",
      "Data columns (total 15 columns):\n",
      " #   Column                  Non-Null Count  Dtype \n",
      "---  ------                  --------------  ----- \n",
      " 0   age                     32561 non-null  int64 \n",
      " 1   workclass               32561 non-null  object\n",
      " 2   fnlwgt                  32561 non-null  int64 \n",
      " 3   education               32561 non-null  object\n",
      " 4   education-no. of years  32561 non-null  int64 \n",
      " 5   marital status          32561 non-null  object\n",
      " 6   occupation              32561 non-null  object\n",
      " 7   relationship            32561 non-null  object\n",
      " 8   race                    32561 non-null  object\n",
      " 9   sex                     32561 non-null  object\n",
      " 10  capital gain            32561 non-null  int64 \n",
      " 11  capital loss            32561 non-null  int64 \n",
      " 12  working hours per week  32561 non-null  int64 \n",
      " 13  native-country          32561 non-null  object\n",
      " 14  salary                  32561 non-null  object\n",
      "dtypes: int64(6), object(9)\n",
      "memory usage: 3.7+ MB\n"
     ]
    }
   ],
   "source": [
    "df.info()"
   ]
  },
  {
   "cell_type": "code",
   "execution_count": 10,
   "id": "b647cb90",
   "metadata": {},
   "outputs": [
    {
     "name": "stdout",
     "output_type": "stream",
     "text": [
      "9\n",
      "['workclass', 'education', 'marital status', 'occupation', 'relationship', 'race', 'sex', 'native-country', 'salary']\n"
     ]
    }
   ],
   "source": [
    "# checking for categorical variables\n",
    "categorical = [feature for feature in df.columns if df[feature].dtype == 'O']\n",
    "print(len(categorical))\n",
    "print(categorical)"
   ]
  },
  {
   "cell_type": "code",
   "execution_count": 11,
   "id": "b1b57051",
   "metadata": {},
   "outputs": [
    {
     "name": "stdout",
     "output_type": "stream",
     "text": [
      "6\n",
      "['age', 'fnlwgt', 'education-no. of years', 'capital gain', 'capital loss', 'working hours per week']\n"
     ]
    }
   ],
   "source": [
    "# checking for numerical variables\n",
    "numerical = [feature for feature in df.columns if feature not in categorical]\n",
    "print(len(numerical))\n",
    "print(numerical)"
   ]
  },
  {
   "cell_type": "markdown",
   "id": "dental-marketplace",
   "metadata": {
    "id": "kkceeszl9WJj"
   },
   "source": [
    "- There are a total of **`9 categorical`** features and **`6 numerical features`**"
   ]
  },
  {
   "cell_type": "code",
   "execution_count": 12,
   "id": "40339852",
   "metadata": {
    "scrolled": true
   },
   "outputs": [
    {
     "name": "stdout",
     "output_type": "stream",
     "text": [
      "workclass  Private             22696\n",
      " Self-emp-not-inc     2541\n",
      " Local-gov            2093\n",
      " ?                    1836\n",
      " State-gov            1298\n",
      " Self-emp-inc         1116\n",
      " Federal-gov           960\n",
      " Without-pay            14\n",
      " Never-worked            7\n",
      "Name: workclass, dtype: int64\n",
      "------------------------------------------------------------\n",
      "education  HS-grad         10501\n",
      " Some-college     7291\n",
      " Bachelors        5355\n",
      " Masters          1723\n",
      " Assoc-voc        1382\n",
      " 11th             1175\n",
      " Assoc-acdm       1067\n",
      " 10th              933\n",
      " 7th-8th           646\n",
      " Prof-school       576\n",
      " 9th               514\n",
      " 12th              433\n",
      " Doctorate         413\n",
      " 5th-6th           333\n",
      " 1st-4th           168\n",
      " Preschool          51\n",
      "Name: education, dtype: int64\n",
      "------------------------------------------------------------\n",
      "marital status  Married-civ-spouse       14976\n",
      " Never-married            10683\n",
      " Divorced                  4443\n",
      " Separated                 1025\n",
      " Widowed                    993\n",
      " Married-spouse-absent      418\n",
      " Married-AF-spouse           23\n",
      "Name: marital status, dtype: int64\n",
      "------------------------------------------------------------\n",
      "occupation  Prof-specialty       4140\n",
      " Craft-repair         4099\n",
      " Exec-managerial      4066\n",
      " Adm-clerical         3770\n",
      " Sales                3650\n",
      " Other-service        3295\n",
      " Machine-op-inspct    2002\n",
      " ?                    1843\n",
      " Transport-moving     1597\n",
      " Handlers-cleaners    1370\n",
      " Farming-fishing       994\n",
      " Tech-support          928\n",
      " Protective-serv       649\n",
      " Priv-house-serv       149\n",
      " Armed-Forces            9\n",
      "Name: occupation, dtype: int64\n",
      "------------------------------------------------------------\n",
      "relationship  Husband           13193\n",
      " Not-in-family      8305\n",
      " Own-child          5068\n",
      " Unmarried          3446\n",
      " Wife               1568\n",
      " Other-relative      981\n",
      "Name: relationship, dtype: int64\n",
      "------------------------------------------------------------\n",
      "race  White                 27816\n",
      " Black                  3124\n",
      " Asian-Pac-Islander     1039\n",
      " Amer-Indian-Eskimo      311\n",
      " Other                   271\n",
      "Name: race, dtype: int64\n",
      "------------------------------------------------------------\n",
      "sex  Male      21790\n",
      " Female    10771\n",
      "Name: sex, dtype: int64\n",
      "------------------------------------------------------------\n",
      "native-country  United-States                 29170\n",
      " Mexico                          643\n",
      " ?                               583\n",
      " Philippines                     198\n",
      " Germany                         137\n",
      " Canada                          121\n",
      " Puerto-Rico                     114\n",
      " El-Salvador                     106\n",
      " India                           100\n",
      " Cuba                             95\n",
      " England                          90\n",
      " Jamaica                          81\n",
      " South                            80\n",
      " China                            75\n",
      " Italy                            73\n",
      " Dominican-Republic               70\n",
      " Vietnam                          67\n",
      " Guatemala                        64\n",
      " Japan                            62\n",
      " Poland                           60\n",
      " Columbia                         59\n",
      " Taiwan                           51\n",
      " Haiti                            44\n",
      " Iran                             43\n",
      " Portugal                         37\n",
      " Nicaragua                        34\n",
      " Peru                             31\n",
      " France                           29\n",
      " Greece                           29\n",
      " Ecuador                          28\n",
      " Ireland                          24\n",
      " Hong                             20\n",
      " Cambodia                         19\n",
      " Trinadad&Tobago                  19\n",
      " Laos                             18\n",
      " Thailand                         18\n",
      " Yugoslavia                       16\n",
      " Outlying-US(Guam-USVI-etc)       14\n",
      " Honduras                         13\n",
      " Hungary                          13\n",
      " Scotland                         12\n",
      " Holand-Netherlands                1\n",
      "Name: native-country, dtype: int64\n",
      "------------------------------------------------------------\n",
      "salary  <=50K    24720\n",
      " >50K      7841\n",
      "Name: salary, dtype: int64\n",
      "------------------------------------------------------------\n"
     ]
    }
   ],
   "source": [
    "for feature in categorical:\n",
    "    print(feature, df[feature].value_counts())\n",
    "    print('-'*60)"
   ]
  },
  {
   "cell_type": "markdown",
   "id": "earned-sheriff",
   "metadata": {},
   "source": [
    "* There are some values represented by a '?' in workclass, occupation, and native country columns which we should investigate further.\n",
    "* The distinct levels of marital_status can also be reduced."
   ]
  },
  {
   "cell_type": "markdown",
   "id": "particular-shannon",
   "metadata": {},
   "source": [
    "#### Replacing ? with 'Unknown'"
   ]
  },
  {
   "cell_type": "code",
   "execution_count": 13,
   "id": "leading-tracker",
   "metadata": {
    "id": "d-SZuewJ9WJ-"
   },
   "outputs": [],
   "source": [
    "df.workclass = df.workclass.apply(lambda x: \"Unknown\" if x == \" ?\" else x)\n",
    "df['native-country'] = df['native-country'].apply(lambda x: \"Unknown\" if x == \" ?\" else x)\n",
    "df.occupation = df.occupation.apply(lambda x: \"Unknown\" if x == \" ?\" else x)"
   ]
  },
  {
   "cell_type": "markdown",
   "id": "short-elimination",
   "metadata": {},
   "source": [
    "#### Reducing the number of distinct values in marital_status"
   ]
  },
  {
   "cell_type": "code",
   "execution_count": 14,
   "id": "wanted-front",
   "metadata": {},
   "outputs": [
    {
     "data": {
      "text/plain": [
       "array([' Never-married', ' Married-civ-spouse', ' Divorced',\n",
       "       ' Married-spouse-absent', ' Separated', ' Married-AF-spouse',\n",
       "       ' Widowed'], dtype=object)"
      ]
     },
     "execution_count": 14,
     "metadata": {},
     "output_type": "execute_result"
    }
   ],
   "source": [
    "df['marital status'].unique()"
   ]
  },
  {
   "cell_type": "code",
   "execution_count": 15,
   "id": "furnished-grain",
   "metadata": {
    "id": "8dnUp7zb9WKO"
   },
   "outputs": [],
   "source": [
    "df['marital status'] = df['marital status'].str.replace(\n",
    "    \" \", \"\"\n",
    ")  # remove empty spaces from strings\n",
    "\n",
    "married = [\"Married-civ-spouse\", \"Married-AF-spouse\"]\n",
    "not_married = [\"Divorced\", \"Separated\", \"Widowed\", \"Married-spouse-absent\"]\n",
    "\n",
    "\n",
    "def reduce_marital_status(x):\n",
    "    if x in married:\n",
    "        return \"married\"\n",
    "    elif x in not_married:\n",
    "        return \"not_married\"\n",
    "    else:\n",
    "        return x"
   ]
  },
  {
   "cell_type": "code",
   "execution_count": 16,
   "id": "conceptual-primary",
   "metadata": {
    "id": "gYG1pieB9WKP"
   },
   "outputs": [],
   "source": [
    "df['marital status'] = df['marital status'].apply(reduce_marital_status)"
   ]
  },
  {
   "cell_type": "code",
   "execution_count": 17,
   "id": "artistic-element",
   "metadata": {
    "colab": {
     "base_uri": "https://localhost:8080/"
    },
    "id": "NDdrqItt9WKS",
    "outputId": "f760d042-5202-402a-9829-c07061fc6b9c"
   },
   "outputs": [
    {
     "data": {
      "text/plain": [
       "array(['Never-married', 'married', 'not_married'], dtype=object)"
      ]
     },
     "execution_count": 17,
     "metadata": {},
     "output_type": "execute_result"
    }
   ],
   "source": [
    "df['marital status'].unique()"
   ]
  },
  {
   "cell_type": "markdown",
   "id": "whole-enclosure",
   "metadata": {},
   "source": [
    "* Values have been clubbed into three categories."
   ]
  },
  {
   "cell_type": "markdown",
   "id": "43ebb14d",
   "metadata": {},
   "source": [
    "#### Converting native-countries to continents for reducing features and ease"
   ]
  },
  {
   "cell_type": "code",
   "execution_count": 18,
   "id": "informational-advertising",
   "metadata": {
    "id": "RaVHYsJd9WKF"
   },
   "outputs": [],
   "source": [
    "north_america = [\n",
    "    \"Canada\",\n",
    "    \"Cuba\",\n",
    "    \"Dominican-Republic\",\n",
    "    \"El-Salvador\",\n",
    "    \"Guatemala\",\n",
    "    \"Haiti\",\n",
    "    \"Honduras\",\n",
    "    \"Jamaica\",\n",
    "    \"Mexico\",\n",
    "    \"Nicaragua\",\n",
    "    \"Outlying-US(Guam-USVI-etc)\",\n",
    "    \"Puerto-Rico\",\n",
    "    \"Trinadad&Tobago\",\n",
    "    \"United-States\",\n",
    "]\n",
    "asia = [\n",
    "    \"Cambodia\",\n",
    "    \"China\",\n",
    "    \"Hong\",\n",
    "    \"India\",\n",
    "    \"Iran\",\n",
    "    \"Japan\",\n",
    "    \"Laos\",\n",
    "    \"Philippines\",\n",
    "    \"Taiwan\",\n",
    "    \"Thailand\",\n",
    "    \"Vietnam\",\n",
    "]\n",
    "south_america = [\"Columbia\", \"Ecuador\", \"Peru\"]\n",
    "europe = [\n",
    "    \"England\",\n",
    "    \"France\",\n",
    "    \"Germany\",\n",
    "    \"Greece\",\n",
    "    \"Holand-Netherlands\",\n",
    "    \"Hungary\",\n",
    "    \"Ireland\",\n",
    "    \"Italy\",\n",
    "    \"Poland\",\n",
    "    \"Portugal\",\n",
    "    \"Scotland\",\n",
    "    \"Yugoslavia\",\n",
    "]\n",
    "other = [\"South\", \"Unknown\", \"?\"]"
   ]
  },
  {
   "cell_type": "code",
   "execution_count": 19,
   "id": "94ac3634",
   "metadata": {},
   "outputs": [],
   "source": [
    "# remove empty spaces from strings\n",
    "df['native-country'] = df['native-country'].str.replace(\n",
    "    \" \", \"\"\n",
    ")  "
   ]
  },
  {
   "cell_type": "code",
   "execution_count": 20,
   "id": "50983bfd",
   "metadata": {},
   "outputs": [],
   "source": [
    "def region_combining(x):\n",
    "    if x in north_america:\n",
    "        return \"north_america\"\n",
    "    elif x in asia:\n",
    "        return \"asia\"\n",
    "    elif x in south_america:\n",
    "        return \"south_america\"\n",
    "    elif x in europe:\n",
    "        return \"europe\"\n",
    "    elif x in other:\n",
    "        return \"other\"\n",
    "    else:\n",
    "        return x\n",
    "\n",
    "df['native-country'] = df['native-country'].apply(region_combining)"
   ]
  },
  {
   "cell_type": "code",
   "execution_count": 21,
   "id": "2616c367",
   "metadata": {},
   "outputs": [
    {
     "data": {
      "text/plain": [
       "north_america    30588\n",
       "asia               671\n",
       "other              663\n",
       "europe             521\n",
       "south_america      118\n",
       "Name: native-country, dtype: int64"
      ]
     },
     "execution_count": 21,
     "metadata": {},
     "output_type": "execute_result"
    }
   ],
   "source": [
    "df['native-country'].value_counts()"
   ]
  },
  {
   "cell_type": "markdown",
   "id": "peaceful-header",
   "metadata": {
    "id": "L7Drz5w_9WKV"
   },
   "source": [
    "\n",
    "## Univariate Analysis\n",
    "This is done for checking the skewness of the data"
   ]
  },
  {
   "cell_type": "code",
   "execution_count": 22,
   "id": "35ccab1c",
   "metadata": {},
   "outputs": [
    {
     "data": {
      "image/png": "[encoded data removed]",
      "text/plain": [
       "<Figure size 864x720 with 6 Axes>"
      ]
     },
     "metadata": {
      "needs_background": "light"
     },
     "output_type": "display_data"
    }
   ],
   "source": [
    "df[numerical].hist(figsize=(12,10))\n",
    "plt.show()"
   ]
  },
  {
   "cell_type": "markdown",
   "id": "a435f6a0",
   "metadata": {},
   "source": [
    "- `Age`, `fnwlgt`, `capital_gain`, and `capital_loss` are right skewed.\n",
    "- This can be treated by handling the outliers "
   ]
  },
  {
   "cell_type": "markdown",
   "id": "a88188fd",
   "metadata": {},
   "source": [
    "#### Checking outliers"
   ]
  },
  {
   "cell_type": "code",
   "execution_count": 23,
   "id": "687d2974",
   "metadata": {},
   "outputs": [
    {
     "data": {
      "image/png": "[encoded data removed]",
      "text/plain": [
       "<Figure size 1080x1080 with 6 Axes>"
      ]
     },
     "metadata": {
      "needs_background": "light"
     },
     "output_type": "display_data"
    }
   ],
   "source": [
    "def check_outliers(df):\n",
    "    plt.figure(figsize=(15, 15))\n",
    "\n",
    "    for i, variable in enumerate(numerical):\n",
    "        plt.subplot(5, 4, i + 1)\n",
    "        plt.boxplot(df[variable], whis=1.5)\n",
    "        plt.tight_layout()\n",
    "        plt.title(variable)\n",
    "\n",
    "    plt.show()\n",
    "\n",
    "check_outliers(df)"
   ]
  },
  {
   "cell_type": "markdown",
   "id": "a225c733",
   "metadata": {},
   "source": [
    "#### Treating outliers"
   ]
  },
  {
   "cell_type": "code",
   "execution_count": 24,
   "id": "cf42e126",
   "metadata": {},
   "outputs": [],
   "source": [
    "def treat_outliers(df, col):\n",
    "\n",
    "    Q1 = df[col].quantile(0.25)  # 25th quantile\n",
    "    Q3 = df[col].quantile(0.75)  # 75th quantile\n",
    "    IQR = Q3 - Q1\n",
    "    Lower_Whisker = Q1 - 1.5 * IQR\n",
    "    Upper_Whisker = Q3 + 1.5 * IQR\n",
    "\n",
    "    # all the values smaller than Lower_Whisker will be assigned the value of Lower_Whisker\n",
    "    # all the values greater than Upper_Whisker will be assigned the value of Upper_Whisker\n",
    "    df[col] = np.clip(df[col], Lower_Whisker, Upper_Whisker)\n",
    "\n",
    "    return df"
   ]
  },
  {
   "cell_type": "code",
   "execution_count": 25,
   "id": "885849b2",
   "metadata": {},
   "outputs": [],
   "source": [
    "for feature in numerical:\n",
    "    df = treat_outliers(df, feature)"
   ]
  },
  {
   "cell_type": "code",
   "execution_count": 26,
   "id": "57289ff9",
   "metadata": {},
   "outputs": [
    {
     "data": {
      "image/png": "[encoded data removed]",
      "text/plain": [
       "<Figure size 1080x1080 with 6 Axes>"
      ]
     },
     "metadata": {
      "needs_background": "light"
     },
     "output_type": "display_data"
    }
   ],
   "source": [
    "# checking if the outliers have been treated or not\n",
    "check_outliers(df)"
   ]
  },
  {
   "cell_type": "markdown",
   "id": "33982d64",
   "metadata": {},
   "source": [
    "- removing capital loss and capital gain since most of the observations become 0 after outlier removal"
   ]
  },
  {
   "cell_type": "code",
   "execution_count": 27,
   "id": "048d16db",
   "metadata": {},
   "outputs": [],
   "source": [
    "df.drop(['capital loss', 'capital gain'], inplace = True, axis = 1)\n",
    "numerical.remove('capital loss')\n",
    "numerical.remove('capital gain')"
   ]
  },
  {
   "cell_type": "markdown",
   "id": "ebaf0351",
   "metadata": {},
   "source": [
    "#### For categorical variables "
   ]
  },
  {
   "cell_type": "code",
   "execution_count": 28,
   "id": "b349d3b6",
   "metadata": {},
   "outputs": [],
   "source": [
    "# checking cardinality of most frquent categories in every categorical feature\n",
    "def distribution(feature, perc=True, data=df):\n",
    "    percent = df[feature].value_counts() / len(df)\n",
    "    return percent * 100 if perc else percent"
   ]
  },
  {
   "cell_type": "code",
   "execution_count": 29,
   "id": "98182e8a",
   "metadata": {
    "scrolled": true
   },
   "outputs": [
    {
     "name": "stdout",
     "output_type": "stream",
     "text": [
      "WORKCLASS\n",
      " Private             69.703019\n",
      " Self-emp-not-inc     7.803814\n",
      " Local-gov            6.427935\n",
      "Unknown               5.638647\n",
      " State-gov            3.986364\n",
      "Name: workclass, dtype: float64\n",
      "\n",
      "EDUCATION\n",
      " HS-grad         32.250238\n",
      " Some-college    22.391818\n",
      " Bachelors       16.446055\n",
      " Masters          5.291607\n",
      " Assoc-voc        4.244341\n",
      "Name: education, dtype: float64\n",
      "\n",
      "MARITAL STATUS\n",
      "married          46.064310\n",
      "Never-married    32.809189\n",
      "not_married      21.126501\n",
      "Name: marital status, dtype: float64\n",
      "\n",
      "OCCUPATION\n",
      " Prof-specialty     12.714597\n",
      " Craft-repair       12.588680\n",
      " Exec-managerial    12.487331\n",
      " Adm-clerical       11.578268\n",
      " Sales              11.209729\n",
      "Name: occupation, dtype: float64\n",
      "\n",
      "RELATIONSHIP\n",
      " Husband          40.517797\n",
      " Not-in-family    25.505973\n",
      " Own-child        15.564633\n",
      " Unmarried        10.583213\n",
      " Wife              4.815577\n",
      "Name: relationship, dtype: float64\n",
      "\n",
      "RACE\n",
      " White                 85.427352\n",
      " Black                  9.594300\n",
      " Asian-Pac-Islander     3.190934\n",
      " Amer-Indian-Eskimo     0.955130\n",
      " Other                  0.832284\n",
      "Name: race, dtype: float64\n",
      "\n",
      "SEX\n",
      " Male      66.920549\n",
      " Female    33.079451\n",
      "Name: sex, dtype: float64\n",
      "\n",
      "NATIVE-COUNTRY\n",
      "north_america    93.940604\n",
      "asia              2.060748\n",
      "other             2.036178\n",
      "europe            1.600074\n",
      "south_america     0.362397\n",
      "Name: native-country, dtype: float64\n",
      "\n",
      "SALARY\n",
      " <=50K    75.919044\n",
      " >50K     24.080956\n",
      "Name: salary, dtype: float64\n",
      "\n"
     ]
    }
   ],
   "source": [
    "for i in categorical:\n",
    "    print(i.upper())\n",
    "    print(distribution(i)[:5])\n",
    "    print()"
   ]
  },
  {
   "cell_type": "markdown",
   "id": "secondary-scroll",
   "metadata": {},
   "source": [
    "* ~70% of the observations are from the Private sector working class.\n",
    "* As expected from the number of hours per week.\n",
    "* 46.1% of the observations in the dataset are married followed by 32.8% of the people who never married.\n",
    "* 89% of the people are native to United States\n",
    "* 24% of the observations have a salary above 50K and while 76% have a salary below 50K"
   ]
  },
  {
   "cell_type": "markdown",
   "id": "national-creativity",
   "metadata": {
    "id": "3jS63iRW9WKs"
   },
   "source": [
    "## Bivariate analysis\n",
    "For checking correlation"
   ]
  },
  {
   "cell_type": "code",
   "execution_count": 30,
   "id": "geological-yeast",
   "metadata": {},
   "outputs": [
    {
     "data": {
      "image/png": "[encoded data removed]",
      "text/plain": [
       "<Figure size 1080x504 with 2 Axes>"
      ]
     },
     "metadata": {
      "needs_background": "light"
     },
     "output_type": "display_data"
    }
   ],
   "source": [
    "plt.figure(figsize=(15, 7))\n",
    "sns.heatmap(df.corr(), annot=True, vmin=-1, vmax=1, fmt=\".2f\", cmap=\"YlGnBu\")\n",
    "plt.show()"
   ]
  },
  {
   "cell_type": "markdown",
   "id": "skilled-tractor",
   "metadata": {},
   "source": [
    "* There is no significant correlation between the columns."
   ]
  },
  {
   "cell_type": "markdown",
   "id": "477af551",
   "metadata": {},
   "source": [
    "### For numerical variables"
   ]
  },
  {
   "cell_type": "code",
   "execution_count": 31,
   "id": "ordinary-short",
   "metadata": {},
   "outputs": [],
   "source": [
    "def stacked_barplot(data, predictor, target):\n",
    "    sorter = data[target].value_counts().index[-1]\n",
    "    tab = pd.crosstab(data[predictor], data[target], normalize=\"index\").sort_values(\n",
    "        by=sorter, ascending=False\n",
    "    )\n",
    "    tab.plot(kind=\"bar\", stacked=True)\n",
    "    plt.legend(\n",
    "        loc=\"lower left\", frameon=False,\n",
    "    )\n",
    "    plt.legend(loc=\"upper left\", bbox_to_anchor=(1, 1))\n",
    "    plt.show()\n",
    "    "
   ]
  },
  {
   "cell_type": "code",
   "execution_count": 32,
   "id": "supposed-hierarchy",
   "metadata": {
    "scrolled": true
   },
   "outputs": [
    {
     "data": {
      "image/png": "[encoded data removed]",
      "text/plain": [
       "<Figure size 432x288 with 1 Axes>"
      ]
     },
     "metadata": {
      "needs_background": "light"
     },
     "output_type": "display_data"
    },
    {
     "data": {
      "image/png": "[encoded data removed]",
      "text/plain": [
       "<Figure size 432x288 with 1 Axes>"
      ]
     },
     "metadata": {
      "needs_background": "light"
     },
     "output_type": "display_data"
    },
    {
     "data": {
      "image/png": "[encoded data removed]",
      "text/plain": [
       "<Figure size 432x288 with 1 Axes>"
      ]
     },
     "metadata": {
      "needs_background": "light"
     },
     "output_type": "display_data"
    },
    {
     "data": {
      "image/png": "[encoded data removed]",
      "text/plain": [
       "<Figure size 432x288 with 1 Axes>"
      ]
     },
     "metadata": {
      "needs_background": "light"
     },
     "output_type": "display_data"
    },
    {
     "data": {
      "image/png": "[encoded data removed]",
      "text/plain": [
       "<Figure size 432x288 with 1 Axes>"
      ]
     },
     "metadata": {
      "needs_background": "light"
     },
     "output_type": "display_data"
    },
    {
     "data": {
      "image/png": "[encoded data removed]",
      "text/plain": [
       "<Figure size 432x288 with 1 Axes>"
      ]
     },
     "metadata": {
      "needs_background": "light"
     },
     "output_type": "display_data"
    },
    {
     "data": {
      "image/png": "[encoded data removed]",
      "text/plain": [
       "<Figure size 432x288 with 1 Axes>"
      ]
     },
     "metadata": {
      "needs_background": "light"
     },
     "output_type": "display_data"
    },
    {
     "data": {
      "image/png": "[encoded data removed]",
      "text/plain": [
       "<Figure size 432x288 with 1 Axes>"
      ]
     },
     "metadata": {
      "needs_background": "light"
     },
     "output_type": "display_data"
    },
    {
     "data": {
      "image/png": "[encoded data removed]",
      "text/plain": [
       "<Figure size 432x288 with 1 Axes>"
      ]
     },
     "metadata": {
      "needs_background": "light"
     },
     "output_type": "display_data"
    }
   ],
   "source": [
    "for feature in categorical:\n",
    "    stacked_barplot(df, feature, \"salary\")"
   ]
  },
  {
   "cell_type": "markdown",
   "id": "suffering-valley",
   "metadata": {},
   "source": [
    "* **~25% of the males have salary >50K whereas only ~15% of the females have salary >50K**\n",
    "* This shows the pay gap that exists in society and the government should investigate further on it to formulate policy to ensure equal pay.\n",
    "\n",
    "\n",
    "* **~70% of the people of are Doctorate, graduate from Professional school program (Prof-school) have a salary above $50K**\n",
    "* This clearly shows a positive relationship between education and salary, the higher the education higher is the salary.\n",
    "\n",
    "\n",
    "\n",
    "- ~50% of the people whose occupation is of Executive Manager, Professor-speciality have a salary above $50,000\n",
    "- **People with occupations like Private house service,handlers-cleaners, farming-fishing have a higher likelihood of having below 50K salary**\n",
    "\n",
    "\n",
    "* **25% of the White and Asia-Pacific people have a salary more than 50K salary as compared to people from other race**\n",
    "\n",
    "\n",
    "\n",
    "* **Married people have a higher likelihood of getting a salary above 50K compared to Never Married and Not married people**\n",
    "\n",
    "\n",
    "* ~50% of the self-employed people have a salary above 50K followed by ~40% of the federal govt employee who has salary more than 50K.\n",
    "* **~20% of the people working in the private sector earn more than 50K**"
   ]
  },
  {
   "cell_type": "code",
   "execution_count": 33,
   "id": "cardiovascular-twenty",
   "metadata": {},
   "outputs": [
    {
     "data": {
      "text/plain": [
       "salary\n",
       " <=50K    36.754854\n",
       " >50K     44.232751\n",
       "Name: age, dtype: float64"
      ]
     },
     "execution_count": 33,
     "metadata": {},
     "output_type": "execute_result"
    }
   ],
   "source": [
    "df.groupby('salary')['age'].mean()"
   ]
  },
  {
   "cell_type": "code",
   "execution_count": 34,
   "id": "cc0cdfa0",
   "metadata": {},
   "outputs": [
    {
     "data": {
      "text/plain": [
       "salary\n",
       " <=50K    40.257969\n",
       " >50K     44.180079\n",
       "Name: working hours per week, dtype: float64"
      ]
     },
     "execution_count": 34,
     "metadata": {},
     "output_type": "execute_result"
    }
   ],
   "source": [
    "df.groupby('salary')['working hours per week'].mean()"
   ]
  },
  {
   "cell_type": "code",
   "execution_count": 35,
   "id": "03299725",
   "metadata": {},
   "outputs": [
    {
     "data": {
      "text/plain": [
       "salary\n",
       " <=50K     9.650162\n",
       " >50K     11.619181\n",
       "Name: education-no. of years, dtype: float64"
      ]
     },
     "execution_count": 35,
     "metadata": {},
     "output_type": "execute_result"
    }
   ],
   "source": [
    "df.groupby('salary')['education-no. of years'].mean()"
   ]
  },
  {
   "cell_type": "markdown",
   "id": "a25c27c8",
   "metadata": {},
   "source": [
    "- Aerage **`age`** of people earning **more than 50k is 44 years** and for those earning **less than 50k is 36 years**\n",
    "- Those who **`earn`**  **more than 50k work for around 45 hours** per week and those who earn **less than 50k work for around 38 hours**\n",
    "- Those who **`earn`**  **more than 50k**, have studied around **11 years** and those earning **less than 50k**, have studied around **9 years**"
   ]
  },
  {
   "cell_type": "code",
   "execution_count": null,
   "id": "3d459bdf",
   "metadata": {},
   "outputs": [],
   "source": []
  },
  {
   "cell_type": "markdown",
   "id": "prescribed-focus",
   "metadata": {},
   "source": [
    "# Data Preparation\n",
    "1. Label Encode saray to Binary format\n",
    "2. Prepare X and y for model training and create training and testing sets\n",
    "3. Decide model performance criteria\n",
    "4. Training model\n",
    "5. Evaluation metrics on train and test sets\n",
    "    - Accuracy, precision, recall and F1 scores\n",
    "    - ROC-AUC graphs and score\n",
    "6. Improve model performance\n",
    "    - Using AUC-ROC curve\n",
    "    - Using Precision-Recall curve"
   ]
  },
  {
   "cell_type": "markdown",
   "id": "cellular-david",
   "metadata": {},
   "source": [
    "## 1. Encoding Salary into Binary label"
   ]
  },
  {
   "cell_type": "code",
   "execution_count": 36,
   "id": "purple-annotation",
   "metadata": {},
   "outputs": [],
   "source": [
    "df[\"salary\"] = df[\"salary\"].apply(lambda x: 1 if x == \" <=50K\" else 0)"
   ]
  },
  {
   "cell_type": "code",
   "execution_count": 37,
   "id": "a39a2a1a",
   "metadata": {},
   "outputs": [
    {
     "data": {
      "text/plain": [
       "1    24720\n",
       "0     7841\n",
       "Name: salary, dtype: int64"
      ]
     },
     "execution_count": 37,
     "metadata": {},
     "output_type": "execute_result"
    }
   ],
   "source": [
    "df.salary.value_counts()"
   ]
  },
  {
   "cell_type": "markdown",
   "id": "lesbian-soldier",
   "metadata": {},
   "source": [
    "## 2. Preparing X and Y and train-test-split"
   ]
  },
  {
   "cell_type": "code",
   "execution_count": 38,
   "id": "metallic-latex",
   "metadata": {},
   "outputs": [],
   "source": [
    "X = df.drop([\"salary\"], axis=1)\n",
    "Y = df[\"salary\"]\n",
    "\n",
    "# for categorical variables\n",
    "X = pd.get_dummies(X, drop_first=True)\n",
    "\n",
    "# Splitting data in train and test sets\n",
    "X_train, X_test, y_train, y_test = train_test_split(\n",
    "    X, Y, test_size=0.30, random_state=1\n",
    ")"
   ]
  },
  {
   "cell_type": "code",
   "execution_count": 39,
   "id": "organized-worth",
   "metadata": {},
   "outputs": [
    {
     "name": "stdout",
     "output_type": "stream",
     "text": [
      "Shape of Training set :  (22792, 57)\n",
      "Shape of test set :  (9769, 57)\n"
     ]
    }
   ],
   "source": [
    "print(\"Shape of Training set : \", X_train.shape)\n",
    "print(\"Shape of test set : \", X_test.shape)"
   ]
  },
  {
   "cell_type": "markdown",
   "id": "0b00e548",
   "metadata": {},
   "source": [
    "## 3. Model evaluation criterion"
   ]
  },
  {
   "cell_type": "markdown",
   "id": "elect-domain",
   "metadata": {},
   "source": [
    "**Model can make wrong predictions as:**\n",
    "1. Predicting a person has a salary <=50K but in reality the salary of the person is >50K.\n",
    "2. Predicting a person doesn't have a salary <=50K but in reality the salary of the person is <=50k.\n",
    "\n",
    "**Which case is more important?**\n",
    "* Both the cases are important as:\n",
    "\n",
    "* If we predict a person has a salary <=50K but actually the salary is >50K then a wrong person will be getting the benefits of the scheme and government might lose resources.\n",
    "\n",
    "* If we predict a person doesn't have a salary <=50K but actually the salary is <=50K that person will not be able to avail the benefits of the scheme constituting to opportunity loss.\n",
    "\n",
    "\n",
    "**How to reduce this loss i.e need to reduce False Negatives?**\n",
    "*  **`f1_score`** should be maximized, the greater the f1_score higher the chances of identifying both the classes correctly."
   ]
  },
  {
   "cell_type": "markdown",
   "id": "f54a74d2",
   "metadata": {},
   "source": [
    "## 4. Training Model"
   ]
  },
  {
   "cell_type": "markdown",
   "id": "waiting-clinic",
   "metadata": {},
   "source": [
    "## Logistic Regression\n",
    "In the code cell below, we will train the logistics regression model on X_train and y_train with .fit() function"
   ]
  },
  {
   "cell_type": "code",
   "execution_count": 40,
   "id": "judicial-acrylic",
   "metadata": {},
   "outputs": [
    {
     "data": {
      "text/plain": [
       "LogisticRegression(random_state=1, solver='newton-cg')"
      ]
     },
     "execution_count": 40,
     "metadata": {},
     "output_type": "execute_result"
    }
   ],
   "source": [
    "# There are different solvers available in Sklearn logistic regression\n",
    "# The newton-cg solver is faster for high-dimensional data\n",
    "\n",
    "lg = LogisticRegression(solver=\"newton-cg\", random_state=1)\n",
    "lg.fit(X_train, y_train)"
   ]
  },
  {
   "cell_type": "markdown",
   "id": "other-ministry",
   "metadata": {},
   "source": [
    "**Finding the coefficients**\n",
    "\n",
    "In the code cell below, we have calculated the coeficients of the regression equation passed in the logistic regression function. These coefficients indicate the impact of each variable on the prediction. A dataframe has been made inorder to show the coefficients corresponsing to every feature/variable"
   ]
  },
  {
   "cell_type": "code",
   "execution_count": 41,
   "id": "federal-fiction",
   "metadata": {},
   "outputs": [
    {
     "data": {
      "text/html": [
       "<div>\n",
       "<style scoped>\n",
       "    .dataframe tbody tr th:only-of-type {\n",
       "        vertical-align: middle;\n",
       "    }\n",
       "\n",
       "    .dataframe tbody tr th {\n",
       "        vertical-align: top;\n",
       "    }\n",
       "\n",
       "    .dataframe thead th {\n",
       "        text-align: right;\n",
       "    }\n",
       "</style>\n",
       "<table border=\"1\" class=\"dataframe\">\n",
       "  <thead>\n",
       "    <tr style=\"text-align: right;\">\n",
       "      <th></th>\n",
       "      <th>Coeff</th>\n",
       "    </tr>\n",
       "  </thead>\n",
       "  <tbody>\n",
       "    <tr>\n",
       "      <th>native-country_south_america</th>\n",
       "      <td>1.291366</td>\n",
       "    </tr>\n",
       "    <tr>\n",
       "      <th>occupation_ Priv-house-serv</th>\n",
       "      <td>1.104090</td>\n",
       "    </tr>\n",
       "    <tr>\n",
       "      <th>workclass_ Without-pay</th>\n",
       "      <td>1.036782</td>\n",
       "    </tr>\n",
       "    <tr>\n",
       "      <th>occupation_ Other-service</th>\n",
       "      <td>0.915059</td>\n",
       "    </tr>\n",
       "    <tr>\n",
       "      <th>relationship_ Own-child</th>\n",
       "      <td>0.911937</td>\n",
       "    </tr>\n",
       "    <tr>\n",
       "      <th>workclass_ Self-emp-not-inc</th>\n",
       "      <td>0.898076</td>\n",
       "    </tr>\n",
       "    <tr>\n",
       "      <th>occupation_ Farming-fishing</th>\n",
       "      <td>0.871997</td>\n",
       "    </tr>\n",
       "    <tr>\n",
       "      <th>education_ Preschool</th>\n",
       "      <td>0.685706</td>\n",
       "    </tr>\n",
       "    <tr>\n",
       "      <th>occupation_Unknown</th>\n",
       "      <td>0.679077</td>\n",
       "    </tr>\n",
       "    <tr>\n",
       "      <th>workclass_ State-gov</th>\n",
       "      <td>0.637436</td>\n",
       "    </tr>\n",
       "  </tbody>\n",
       "</table>\n",
       "</div>"
      ],
      "text/plain": [
       "                                 Coeff\n",
       "native-country_south_america  1.291366\n",
       "occupation_ Priv-house-serv   1.104090\n",
       "workclass_ Without-pay        1.036782\n",
       "occupation_ Other-service     0.915059\n",
       "relationship_ Own-child       0.911937\n",
       "workclass_ Self-emp-not-inc   0.898076\n",
       "occupation_ Farming-fishing   0.871997\n",
       "education_ Preschool          0.685706\n",
       "occupation_Unknown            0.679077\n",
       "workclass_ State-gov          0.637436"
      ]
     },
     "execution_count": 41,
     "metadata": {},
     "output_type": "execute_result"
    }
   ],
   "source": [
    "# let us check the coefficients and intercept of the model\n",
    "pd.DataFrame(lg.coef_,columns=X.columns,index = ['Coeff']).T.sort_values(by='Coeff',ascending=False).head(10)"
   ]
  },
  {
   "cell_type": "markdown",
   "id": "5c378d57",
   "metadata": {},
   "source": [
    "- The above 10 features are the ones that are **`positively related`** with the salary\n",
    "- Increase in these features will increase in chances of a person having salary <=50K."
   ]
  },
  {
   "cell_type": "code",
   "execution_count": 42,
   "id": "f716c1ef",
   "metadata": {},
   "outputs": [
    {
     "data": {
      "text/html": [
       "<div>\n",
       "<style scoped>\n",
       "    .dataframe tbody tr th:only-of-type {\n",
       "        vertical-align: middle;\n",
       "    }\n",
       "\n",
       "    .dataframe tbody tr th {\n",
       "        vertical-align: top;\n",
       "    }\n",
       "\n",
       "    .dataframe thead th {\n",
       "        text-align: right;\n",
       "    }\n",
       "</style>\n",
       "<table border=\"1\" class=\"dataframe\">\n",
       "  <thead>\n",
       "    <tr style=\"text-align: right;\">\n",
       "      <th></th>\n",
       "      <th>Coeff</th>\n",
       "    </tr>\n",
       "  </thead>\n",
       "  <tbody>\n",
       "    <tr>\n",
       "      <th>race_ Asian-Pac-Islander</th>\n",
       "      <td>-0.383771</td>\n",
       "    </tr>\n",
       "    <tr>\n",
       "      <th>marital status_not_married</th>\n",
       "      <td>-0.418022</td>\n",
       "    </tr>\n",
       "    <tr>\n",
       "      <th>education_ Prof-school</th>\n",
       "      <td>-0.424818</td>\n",
       "    </tr>\n",
       "    <tr>\n",
       "      <th>occupation_ Prof-specialty</th>\n",
       "      <td>-0.505308</td>\n",
       "    </tr>\n",
       "    <tr>\n",
       "      <th>occupation_ Protective-serv</th>\n",
       "      <td>-0.544586</td>\n",
       "    </tr>\n",
       "    <tr>\n",
       "      <th>occupation_ Tech-support</th>\n",
       "      <td>-0.602203</td>\n",
       "    </tr>\n",
       "    <tr>\n",
       "      <th>sex_ Male</th>\n",
       "      <td>-0.763088</td>\n",
       "    </tr>\n",
       "    <tr>\n",
       "      <th>occupation_ Exec-managerial</th>\n",
       "      <td>-0.793704</td>\n",
       "    </tr>\n",
       "    <tr>\n",
       "      <th>relationship_ Wife</th>\n",
       "      <td>-1.389544</td>\n",
       "    </tr>\n",
       "    <tr>\n",
       "      <th>marital status_married</th>\n",
       "      <td>-2.161862</td>\n",
       "    </tr>\n",
       "  </tbody>\n",
       "</table>\n",
       "</div>"
      ],
      "text/plain": [
       "                                Coeff\n",
       "race_ Asian-Pac-Islander    -0.383771\n",
       "marital status_not_married  -0.418022\n",
       "education_ Prof-school      -0.424818\n",
       "occupation_ Prof-specialty  -0.505308\n",
       "occupation_ Protective-serv -0.544586\n",
       "occupation_ Tech-support    -0.602203\n",
       "sex_ Male                   -0.763088\n",
       "occupation_ Exec-managerial -0.793704\n",
       "relationship_ Wife          -1.389544\n",
       "marital status_married      -2.161862"
      ]
     },
     "execution_count": 42,
     "metadata": {},
     "output_type": "execute_result"
    }
   ],
   "source": [
    "pd.DataFrame(lg.coef_,columns=X.columns,index = ['Coeff']).T.sort_values(by='Coeff',ascending=False).tail(10)"
   ]
  },
  {
   "cell_type": "markdown",
   "id": "156929dd",
   "metadata": {},
   "source": [
    "- The above 10 features are the ones that are **`negatively related`** with the salary\n",
    "- Increase in these features will decrease in chances of a person having salary <=50K."
   ]
  },
  {
   "cell_type": "markdown",
   "id": "swedish-johns",
   "metadata": {},
   "source": [
    "**Converting coefficients to odds**"
   ]
  },
  {
   "cell_type": "markdown",
   "id": "respective-spine",
   "metadata": {},
   "source": [
    "* The coefficients of the logistic regression model are in terms of log(odd), to find the odds we have to take the exponential of the coefficients. \n",
    "* Therefore, **odds =  exp(b)**\n",
    "* The percentage change in odds is given as **odds = (exp(b) - 1) * 100**"
   ]
  },
  {
   "cell_type": "code",
   "execution_count": 43,
   "id": "looking-statistics",
   "metadata": {},
   "outputs": [
    {
     "data": {
      "text/html": [
       "<div>\n",
       "<style scoped>\n",
       "    .dataframe tbody tr th:only-of-type {\n",
       "        vertical-align: middle;\n",
       "    }\n",
       "\n",
       "    .dataframe tbody tr th {\n",
       "        vertical-align: top;\n",
       "    }\n",
       "\n",
       "    .dataframe thead th {\n",
       "        text-align: right;\n",
       "    }\n",
       "</style>\n",
       "<table border=\"1\" class=\"dataframe\">\n",
       "  <thead>\n",
       "    <tr style=\"text-align: right;\">\n",
       "      <th></th>\n",
       "      <th>Odds</th>\n",
       "      <th>Change_odd%</th>\n",
       "    </tr>\n",
       "  </thead>\n",
       "  <tbody>\n",
       "    <tr>\n",
       "      <th>age</th>\n",
       "      <td>0.970989</td>\n",
       "      <td>-2.901103</td>\n",
       "    </tr>\n",
       "    <tr>\n",
       "      <th>fnlwgt</th>\n",
       "      <td>0.999999</td>\n",
       "      <td>-0.000085</td>\n",
       "    </tr>\n",
       "    <tr>\n",
       "      <th>education-no. of years</th>\n",
       "      <td>0.744307</td>\n",
       "      <td>-25.569317</td>\n",
       "    </tr>\n",
       "    <tr>\n",
       "      <th>working hours per week</th>\n",
       "      <td>0.934503</td>\n",
       "      <td>-6.549703</td>\n",
       "    </tr>\n",
       "    <tr>\n",
       "      <th>workclass_ Local-gov</th>\n",
       "      <td>1.881041</td>\n",
       "      <td>88.104071</td>\n",
       "    </tr>\n",
       "    <tr>\n",
       "      <th>workclass_ Never-worked</th>\n",
       "      <td>1.250332</td>\n",
       "      <td>25.033209</td>\n",
       "    </tr>\n",
       "    <tr>\n",
       "      <th>workclass_ Private</th>\n",
       "      <td>1.532863</td>\n",
       "      <td>53.286327</td>\n",
       "    </tr>\n",
       "    <tr>\n",
       "      <th>workclass_ Self-emp-inc</th>\n",
       "      <td>1.096134</td>\n",
       "      <td>9.613378</td>\n",
       "    </tr>\n",
       "    <tr>\n",
       "      <th>workclass_ Self-emp-not-inc</th>\n",
       "      <td>2.454876</td>\n",
       "      <td>145.487561</td>\n",
       "    </tr>\n",
       "    <tr>\n",
       "      <th>workclass_ State-gov</th>\n",
       "      <td>1.891624</td>\n",
       "      <td>89.162367</td>\n",
       "    </tr>\n",
       "  </tbody>\n",
       "</table>\n",
       "</div>"
      ],
      "text/plain": [
       "                                 Odds  Change_odd%\n",
       "age                          0.970989    -2.901103\n",
       "fnlwgt                       0.999999    -0.000085\n",
       "education-no. of years       0.744307   -25.569317\n",
       "working hours per week       0.934503    -6.549703\n",
       "workclass_ Local-gov         1.881041    88.104071\n",
       "workclass_ Never-worked      1.250332    25.033209\n",
       "workclass_ Private           1.532863    53.286327\n",
       "workclass_ Self-emp-inc      1.096134     9.613378\n",
       "workclass_ Self-emp-not-inc  2.454876   145.487561\n",
       "workclass_ State-gov         1.891624    89.162367"
      ]
     },
     "execution_count": 43,
     "metadata": {},
     "output_type": "execute_result"
    }
   ],
   "source": [
    "# converting coefficients to odds\n",
    "odds = np.exp(lg.coef_[0])\n",
    "\n",
    "# finding the percentage change\n",
    "perc_change_odds = (np.exp(lg.coef_[0]) - 1) * 100\n",
    "\n",
    "# removing limit from number of columns to display\n",
    "pd.set_option(\"display.max_columns\", None)\n",
    "\n",
    "# adding the odds to a dataframe\n",
    "pd.DataFrame({\"Odds\": odds, \"Change_odd%\": perc_change_odds}, index=X_train.columns).head(10)"
   ]
  },
  {
   "cell_type": "markdown",
   "id": "approved-lecture",
   "metadata": {},
   "source": [
    "**Coefficient interpretations**\n",
    "- The change in odds represent the increase/decrease in the odds of a person having a salaray of <=50k.\n",
    "- Hence by keeping all the features constant, a 1 unit change in the particular feature will increase/decrease the chance of a person having a salary <=50K based on the odds and Changed_odds% of that feature"
   ]
  },
  {
   "cell_type": "markdown",
   "id": "80adc64c",
   "metadata": {},
   "source": [
    "## 5. Evaluation metrics"
   ]
  },
  {
   "cell_type": "code",
   "execution_count": 44,
   "id": "b69d43da",
   "metadata": {},
   "outputs": [],
   "source": [
    "# predicting labels\n",
    "y_pred_train = lg.predict(X_train)\n",
    "y_pred_test = lg.predict(X_test)"
   ]
  },
  {
   "cell_type": "code",
   "execution_count": 45,
   "id": "31f4e047",
   "metadata": {},
   "outputs": [],
   "source": [
    "# predicting probablities\n",
    "y_prob_train = lg.predict_proba(X_train)[:,1]\n",
    "y_prob_test = lg.predict_proba(X_test)[:,1]"
   ]
  },
  {
   "cell_type": "code",
   "execution_count": 46,
   "id": "55b8f1a2",
   "metadata": {},
   "outputs": [],
   "source": [
    "# Since we need the model performance based on the threshold value, we will make this function\n",
    "# This function will make labels for our dependant variables based on the threshold passed\n",
    "\n",
    "def model_performance(target, pred_prob, threshold=0.5):\n",
    "    \n",
    "    pred_thresh = pred_prob > threshold\n",
    "    pred = np.round(pred_thresh)\n",
    "    \n",
    "    acc = accuracy_score(target, pred) \n",
    "    recall = recall_score(target, pred) \n",
    "    precision = precision_score(target, pred)\n",
    "    f1 = f1_score(target, pred) \n",
    "\n",
    "    # creating a dataframe of metrics\n",
    "    df_score = pd.DataFrame(\n",
    "        {\n",
    "            \"Accuracy\": acc,\n",
    "            \"Recall\": recall,\n",
    "            \"Precision\": precision,\n",
    "            \"F1\": f1,\n",
    "        },\n",
    "        index=['Score'],\n",
    "    )\n",
    "\n",
    "    return df_score.T"
   ]
  },
  {
   "cell_type": "code",
   "execution_count": 47,
   "id": "1b58b527",
   "metadata": {},
   "outputs": [
    {
     "name": "stdout",
     "output_type": "stream",
     "text": [
      "TRAINING SET\n"
     ]
    },
    {
     "data": {
      "text/html": [
       "<div>\n",
       "<style scoped>\n",
       "    .dataframe tbody tr th:only-of-type {\n",
       "        vertical-align: middle;\n",
       "    }\n",
       "\n",
       "    .dataframe tbody tr th {\n",
       "        vertical-align: top;\n",
       "    }\n",
       "\n",
       "    .dataframe thead th {\n",
       "        text-align: right;\n",
       "    }\n",
       "</style>\n",
       "<table border=\"1\" class=\"dataframe\">\n",
       "  <thead>\n",
       "    <tr style=\"text-align: right;\">\n",
       "      <th></th>\n",
       "      <th>Score</th>\n",
       "    </tr>\n",
       "  </thead>\n",
       "  <tbody>\n",
       "    <tr>\n",
       "      <th>Accuracy</th>\n",
       "      <td>0.834328</td>\n",
       "    </tr>\n",
       "    <tr>\n",
       "      <th>Recall</th>\n",
       "      <td>0.921083</td>\n",
       "    </tr>\n",
       "    <tr>\n",
       "      <th>Precision</th>\n",
       "      <td>0.867241</td>\n",
       "    </tr>\n",
       "    <tr>\n",
       "      <th>F1</th>\n",
       "      <td>0.893351</td>\n",
       "    </tr>\n",
       "  </tbody>\n",
       "</table>\n",
       "</div>"
      ],
      "text/plain": [
       "              Score\n",
       "Accuracy   0.834328\n",
       "Recall     0.921083\n",
       "Precision  0.867241\n",
       "F1         0.893351"
      ]
     },
     "execution_count": 47,
     "metadata": {},
     "output_type": "execute_result"
    }
   ],
   "source": [
    "print('TRAINING SET')\n",
    "lg_train = model_performance(y_train, y_prob_train)\n",
    "lg_train"
   ]
  },
  {
   "cell_type": "code",
   "execution_count": 48,
   "id": "5403877f",
   "metadata": {},
   "outputs": [
    {
     "name": "stdout",
     "output_type": "stream",
     "text": [
      "TEST SET\n"
     ]
    },
    {
     "data": {
      "text/html": [
       "<div>\n",
       "<style scoped>\n",
       "    .dataframe tbody tr th:only-of-type {\n",
       "        vertical-align: middle;\n",
       "    }\n",
       "\n",
       "    .dataframe tbody tr th {\n",
       "        vertical-align: top;\n",
       "    }\n",
       "\n",
       "    .dataframe thead th {\n",
       "        text-align: right;\n",
       "    }\n",
       "</style>\n",
       "<table border=\"1\" class=\"dataframe\">\n",
       "  <thead>\n",
       "    <tr style=\"text-align: right;\">\n",
       "      <th></th>\n",
       "      <th>Score</th>\n",
       "    </tr>\n",
       "  </thead>\n",
       "  <tbody>\n",
       "    <tr>\n",
       "      <th>Accuracy</th>\n",
       "      <td>0.838980</td>\n",
       "    </tr>\n",
       "    <tr>\n",
       "      <th>Recall</th>\n",
       "      <td>0.917616</td>\n",
       "    </tr>\n",
       "    <tr>\n",
       "      <th>Precision</th>\n",
       "      <td>0.879299</td>\n",
       "    </tr>\n",
       "    <tr>\n",
       "      <th>F1</th>\n",
       "      <td>0.898049</td>\n",
       "    </tr>\n",
       "  </tbody>\n",
       "</table>\n",
       "</div>"
      ],
      "text/plain": [
       "              Score\n",
       "Accuracy   0.838980\n",
       "Recall     0.917616\n",
       "Precision  0.879299\n",
       "F1         0.898049"
      ]
     },
     "execution_count": 48,
     "metadata": {},
     "output_type": "execute_result"
    }
   ],
   "source": [
    "print(\"TEST SET\")\n",
    "lg_test = model_performance(y_test, y_prob_test)\n",
    "lg_test"
   ]
  },
  {
   "cell_type": "markdown",
   "id": "alone-relay",
   "metadata": {},
   "source": [
    "### ROC-AUC curve"
   ]
  },
  {
   "cell_type": "markdown",
   "id": "furnished-dragon",
   "metadata": {},
   "source": [
    "Here we will be checking the ROC-AUC score for the training set. This score will give us the evaluation of our model based on the TPR(true Positive Rate) and FPR(False positive rate)\n",
    "\n",
    "We would want a model with a high TPR and a lesser FPR. Therefore from the below curve, we can select an optimal model threshold inorder to get a good model with less FPR and high TPR"
   ]
  },
  {
   "cell_type": "code",
   "execution_count": 49,
   "id": "stylish-writing",
   "metadata": {},
   "outputs": [
    {
     "data": {
      "image/png": "[encoded data removed]",
      "text/plain": [
       "<Figure size 720x432 with 2 Axes>"
      ]
     },
     "metadata": {
      "needs_background": "light"
     },
     "output_type": "display_data"
    }
   ],
   "source": [
    "plt.figure(figsize = (10,6))\n",
    "\n",
    "plt.subplot(1,2,1)\n",
    "logit_roc_auc_train = roc_auc_score(y_train, y_prob_train)\n",
    "fpr, tpr, thresholds = roc_curve(y_train, y_prob_train)\n",
    "plt.plot(fpr, tpr, label=\"Logistic Regression (area = %0.2f)\" % logit_roc_auc_train)\n",
    "plt.plot([0, 1], [0, 1], \"r--\")\n",
    "plt.xlim([0.0, 1.0])\n",
    "plt.ylim([0.0, 1.05])\n",
    "plt.xlabel(\"False Positive Rate\")\n",
    "plt.ylabel(\"True Positive Rate\")\n",
    "plt.title(\"TRAIN ROC\")\n",
    "plt.legend(loc=\"lower right\")\n",
    "\n",
    "plt.subplot(1,2,2)\n",
    "logit_roc_auc_test = roc_auc_score(y_test, y_prob_test)\n",
    "fpr, tpr, thresholds = roc_curve(y_test, y_prob_test)\n",
    "plt.plot(fpr, tpr, label=\"Logistic Regression (area = %0.2f)\" % logit_roc_auc_test)\n",
    "plt.plot([0, 1], [0, 1], \"r--\")\n",
    "plt.xlim([0.0, 1.0])\n",
    "plt.ylim([0.0, 1.05])\n",
    "plt.xlabel(\"False Positive Rate\")\n",
    "plt.title(\"TEST ROC\")\n",
    "plt.legend(loc=\"lower right\")\n",
    "plt.show()"
   ]
  },
  {
   "cell_type": "markdown",
   "id": "electronic-consequence",
   "metadata": {},
   "source": [
    "* Model is giving a generalized performance sine the **`AUC is 0.89`** on both test and trainig set"
   ]
  },
  {
   "cell_type": "markdown",
   "id": "duplicate-chocolate",
   "metadata": {},
   "source": [
    "## 6. Model Performance Improvement"
   ]
  },
  {
   "cell_type": "markdown",
   "id": "disturbed-dividend",
   "metadata": {},
   "source": [
    "## Using Optimal threshold from AUC-ROC curve\n",
    "Now, we will find the optimal threshold using the AUC-ROC curve. This threshold is choosen based on a model that has a high TPR and a low FPR"
   ]
  },
  {
   "cell_type": "code",
   "execution_count": 50,
   "id": "informal-retention",
   "metadata": {},
   "outputs": [
    {
     "name": "stdout",
     "output_type": "stream",
     "text": [
      "0.7757062409980053\n"
     ]
    }
   ],
   "source": [
    "# Optimal threshold as per AUC-ROC curve\n",
    "# The optimal cut off would be where tpr is high and fpr is low\n",
    "fpr, tpr, thresholds = roc_curve(y_train, lg.predict_proba(X_train)[:, 1])\n",
    "\n",
    "optimal_idx = np.argmax(tpr - fpr)\n",
    "optimal_threshold_auc_roc = thresholds[optimal_idx]\n",
    "print(optimal_threshold_auc_roc)"
   ]
  },
  {
   "cell_type": "markdown",
   "id": "776d5802",
   "metadata": {},
   "source": [
    "**Model performance with optimal `threshold = 0.775`**"
   ]
  },
  {
   "cell_type": "code",
   "execution_count": 51,
   "id": "hawaiian-johns",
   "metadata": {},
   "outputs": [
    {
     "name": "stdout",
     "output_type": "stream",
     "text": [
      "TRAINING SET\n"
     ]
    },
    {
     "data": {
      "text/html": [
       "<div>\n",
       "<style scoped>\n",
       "    .dataframe tbody tr th:only-of-type {\n",
       "        vertical-align: middle;\n",
       "    }\n",
       "\n",
       "    .dataframe tbody tr th {\n",
       "        vertical-align: top;\n",
       "    }\n",
       "\n",
       "    .dataframe thead th {\n",
       "        text-align: right;\n",
       "    }\n",
       "</style>\n",
       "<table border=\"1\" class=\"dataframe\">\n",
       "  <thead>\n",
       "    <tr style=\"text-align: right;\">\n",
       "      <th></th>\n",
       "      <th>Score</th>\n",
       "    </tr>\n",
       "  </thead>\n",
       "  <tbody>\n",
       "    <tr>\n",
       "      <th>Accuracy</th>\n",
       "      <td>0.780449</td>\n",
       "    </tr>\n",
       "    <tr>\n",
       "      <th>Recall</th>\n",
       "      <td>0.751310</td>\n",
       "    </tr>\n",
       "    <tr>\n",
       "      <th>Precision</th>\n",
       "      <td>0.946164</td>\n",
       "    </tr>\n",
       "    <tr>\n",
       "      <th>F1</th>\n",
       "      <td>0.837554</td>\n",
       "    </tr>\n",
       "  </tbody>\n",
       "</table>\n",
       "</div>"
      ],
      "text/plain": [
       "              Score\n",
       "Accuracy   0.780449\n",
       "Recall     0.751310\n",
       "Precision  0.946164\n",
       "F1         0.837554"
      ]
     },
     "execution_count": 51,
     "metadata": {},
     "output_type": "execute_result"
    }
   ],
   "source": [
    "print('TRAINING SET')\n",
    "lg_train_thresh1 = model_performance(y_train, y_prob_train, threshold=0.775)\n",
    "lg_train_thresh1"
   ]
  },
  {
   "cell_type": "code",
   "execution_count": 52,
   "id": "e25d4c1a",
   "metadata": {},
   "outputs": [
    {
     "name": "stdout",
     "output_type": "stream",
     "text": [
      "TEST SET\n"
     ]
    },
    {
     "data": {
      "text/html": [
       "<div>\n",
       "<style scoped>\n",
       "    .dataframe tbody tr th:only-of-type {\n",
       "        vertical-align: middle;\n",
       "    }\n",
       "\n",
       "    .dataframe tbody tr th {\n",
       "        vertical-align: top;\n",
       "    }\n",
       "\n",
       "    .dataframe thead th {\n",
       "        text-align: right;\n",
       "    }\n",
       "</style>\n",
       "<table border=\"1\" class=\"dataframe\">\n",
       "  <thead>\n",
       "    <tr style=\"text-align: right;\">\n",
       "      <th></th>\n",
       "      <th>Score</th>\n",
       "    </tr>\n",
       "  </thead>\n",
       "  <tbody>\n",
       "    <tr>\n",
       "      <th>Accuracy</th>\n",
       "      <td>0.779814</td>\n",
       "    </tr>\n",
       "    <tr>\n",
       "      <th>Recall</th>\n",
       "      <td>0.752980</td>\n",
       "    </tr>\n",
       "    <tr>\n",
       "      <th>Precision</th>\n",
       "      <td>0.952102</td>\n",
       "    </tr>\n",
       "    <tr>\n",
       "      <th>F1</th>\n",
       "      <td>0.840914</td>\n",
       "    </tr>\n",
       "  </tbody>\n",
       "</table>\n",
       "</div>"
      ],
      "text/plain": [
       "              Score\n",
       "Accuracy   0.779814\n",
       "Recall     0.752980\n",
       "Precision  0.952102\n",
       "F1         0.840914"
      ]
     },
     "execution_count": 52,
     "metadata": {},
     "output_type": "execute_result"
    }
   ],
   "source": [
    "print(\"TEST SET\")\n",
    "lg_test_thresh1 = model_performance(y_test, y_prob_test, threshold = 0.775)\n",
    "lg_test_thresh1"
   ]
  },
  {
   "cell_type": "markdown",
   "id": "nonprofit-engineering",
   "metadata": {},
   "source": [
    "* The **`precision`** of the model for both training and test set **has improved** but the **`F1-score` has reduced**"
   ]
  },
  {
   "cell_type": "markdown",
   "id": "documented-channels",
   "metadata": {},
   "source": [
    "## Using Optimal Threshold from Precision-Recall Curve\n",
    "\n",
    "We will plot the change in precision and the recall for different values of threshold. The threshold value that gives the best precision-recall balance(intersection point between the curves), is the best threshold value"
   ]
  },
  {
   "cell_type": "code",
   "execution_count": 53,
   "id": "scientific-plain",
   "metadata": {},
   "outputs": [
    {
     "data": {
      "image/png": "[encoded data removed]",
      "text/plain": [
       "<Figure size 576x432 with 1 Axes>"
      ]
     },
     "metadata": {
      "needs_background": "light"
     },
     "output_type": "display_data"
    }
   ],
   "source": [
    "prec, rec, tre = precision_recall_curve(y_train,y_prob_train)\n",
    "\n",
    "\n",
    "def plot_prec_recall_vs_tresh(precisions, recalls, thresholds):\n",
    "    plt.plot(thresholds, precisions[:-1], \"b--\", label=\"precision\")\n",
    "    plt.plot(thresholds, recalls[:-1], \"g--\", label=\"recall\")\n",
    "    plt.xlabel(\"Threshold\")\n",
    "    plt.legend(loc=\"upper left\")\n",
    "    plt.ylim([0, 1])\n",
    "\n",
    "\n",
    "plt.figure(figsize=(8, 6))\n",
    "plot_prec_recall_vs_tresh(prec, rec, tre)\n",
    "plt.show()"
   ]
  },
  {
   "cell_type": "markdown",
   "id": "double-cholesterol",
   "metadata": {},
   "source": [
    "* At the threshold of **`0.58`**, we get balanced recall and precision."
   ]
  },
  {
   "cell_type": "code",
   "execution_count": 54,
   "id": "continuous-hostel",
   "metadata": {},
   "outputs": [],
   "source": [
    "optimal_threshold = 0.58"
   ]
  },
  {
   "cell_type": "markdown",
   "id": "db69d45c",
   "metadata": {},
   "source": [
    "**Model performance with optimal `threshold = 0.58`**"
   ]
  },
  {
   "cell_type": "code",
   "execution_count": 55,
   "id": "861a934b",
   "metadata": {},
   "outputs": [
    {
     "name": "stdout",
     "output_type": "stream",
     "text": [
      "TRAINING SET\n"
     ]
    },
    {
     "data": {
      "text/html": [
       "<div>\n",
       "<style scoped>\n",
       "    .dataframe tbody tr th:only-of-type {\n",
       "        vertical-align: middle;\n",
       "    }\n",
       "\n",
       "    .dataframe tbody tr th {\n",
       "        vertical-align: top;\n",
       "    }\n",
       "\n",
       "    .dataframe thead th {\n",
       "        text-align: right;\n",
       "    }\n",
       "</style>\n",
       "<table border=\"1\" class=\"dataframe\">\n",
       "  <thead>\n",
       "    <tr style=\"text-align: right;\">\n",
       "      <th></th>\n",
       "      <th>Score</th>\n",
       "    </tr>\n",
       "  </thead>\n",
       "  <tbody>\n",
       "    <tr>\n",
       "      <th>Accuracy</th>\n",
       "      <td>0.831739</td>\n",
       "    </tr>\n",
       "    <tr>\n",
       "      <th>Recall</th>\n",
       "      <td>0.886954</td>\n",
       "    </tr>\n",
       "    <tr>\n",
       "      <th>Precision</th>\n",
       "      <td>0.889389</td>\n",
       "    </tr>\n",
       "    <tr>\n",
       "      <th>F1</th>\n",
       "      <td>0.888170</td>\n",
       "    </tr>\n",
       "  </tbody>\n",
       "</table>\n",
       "</div>"
      ],
      "text/plain": [
       "              Score\n",
       "Accuracy   0.831739\n",
       "Recall     0.886954\n",
       "Precision  0.889389\n",
       "F1         0.888170"
      ]
     },
     "execution_count": 55,
     "metadata": {},
     "output_type": "execute_result"
    }
   ],
   "source": [
    "print('TRAINING SET')\n",
    "lg_train_thresh2 = model_performance(y_train, y_prob_train, threshold=0.58)\n",
    "lg_train_thresh2"
   ]
  },
  {
   "cell_type": "code",
   "execution_count": 56,
   "id": "714741a7",
   "metadata": {},
   "outputs": [
    {
     "name": "stdout",
     "output_type": "stream",
     "text": [
      "TEST SET\n"
     ]
    },
    {
     "data": {
      "text/html": [
       "<div>\n",
       "<style scoped>\n",
       "    .dataframe tbody tr th:only-of-type {\n",
       "        vertical-align: middle;\n",
       "    }\n",
       "\n",
       "    .dataframe tbody tr th {\n",
       "        vertical-align: top;\n",
       "    }\n",
       "\n",
       "    .dataframe thead th {\n",
       "        text-align: right;\n",
       "    }\n",
       "</style>\n",
       "<table border=\"1\" class=\"dataframe\">\n",
       "  <thead>\n",
       "    <tr style=\"text-align: right;\">\n",
       "      <th></th>\n",
       "      <th>Score</th>\n",
       "    </tr>\n",
       "  </thead>\n",
       "  <tbody>\n",
       "    <tr>\n",
       "      <th>Accuracy</th>\n",
       "      <td>0.831508</td>\n",
       "    </tr>\n",
       "    <tr>\n",
       "      <th>Recall</th>\n",
       "      <td>0.880927</td>\n",
       "    </tr>\n",
       "    <tr>\n",
       "      <th>Precision</th>\n",
       "      <td>0.899027</td>\n",
       "    </tr>\n",
       "    <tr>\n",
       "      <th>F1</th>\n",
       "      <td>0.889885</td>\n",
       "    </tr>\n",
       "  </tbody>\n",
       "</table>\n",
       "</div>"
      ],
      "text/plain": [
       "              Score\n",
       "Accuracy   0.831508\n",
       "Recall     0.880927\n",
       "Precision  0.899027\n",
       "F1         0.889885"
      ]
     },
     "execution_count": 56,
     "metadata": {},
     "output_type": "execute_result"
    }
   ],
   "source": [
    "print(\"TEST SET\")\n",
    "lg_test_thresh2 = model_performance(y_test, y_prob_test, threshold = 0.58)\n",
    "lg_test_thresh2"
   ]
  },
  {
   "cell_type": "markdown",
   "id": "c82663b8",
   "metadata": {},
   "source": [
    "- The **precision and recall has increased** for both the train and test sets\n",
    "- Hence a **threshold of 0.58 is a better choice**"
   ]
  },
  {
   "cell_type": "markdown",
   "id": "statutory-gasoline",
   "metadata": {},
   "source": [
    "# Model Performance Summary\n",
    "Here in this section we will summarize the model performance in a tabular format(dataframe) based on the results achieved from selecting different threshold values."
   ]
  },
  {
   "cell_type": "code",
   "execution_count": 141,
   "id": "modular-husband",
   "metadata": {},
   "outputs": [
    {
     "name": "stdout",
     "output_type": "stream",
     "text": [
      "TRAINING PERFORMANCE:\n"
     ]
    },
    {
     "data": {
      "text/html": [
       "<div>\n",
       "<style scoped>\n",
       "    .dataframe tbody tr th:only-of-type {\n",
       "        vertical-align: middle;\n",
       "    }\n",
       "\n",
       "    .dataframe tbody tr th {\n",
       "        vertical-align: top;\n",
       "    }\n",
       "\n",
       "    .dataframe thead th {\n",
       "        text-align: right;\n",
       "    }\n",
       "</style>\n",
       "<table border=\"1\" class=\"dataframe\">\n",
       "  <thead>\n",
       "    <tr style=\"text-align: right;\">\n",
       "      <th></th>\n",
       "      <th>Default Threshold</th>\n",
       "      <th>0.77 Threshold</th>\n",
       "      <th>0.58 Threshold</th>\n",
       "    </tr>\n",
       "  </thead>\n",
       "  <tbody>\n",
       "    <tr>\n",
       "      <th>Accuracy</th>\n",
       "      <td>0.834328</td>\n",
       "      <td>0.780449</td>\n",
       "      <td>0.831739</td>\n",
       "    </tr>\n",
       "    <tr>\n",
       "      <th>Recall</th>\n",
       "      <td>0.921083</td>\n",
       "      <td>0.751310</td>\n",
       "      <td>0.886954</td>\n",
       "    </tr>\n",
       "    <tr>\n",
       "      <th>Precision</th>\n",
       "      <td>0.867241</td>\n",
       "      <td>0.946164</td>\n",
       "      <td>0.889389</td>\n",
       "    </tr>\n",
       "    <tr>\n",
       "      <th>F1</th>\n",
       "      <td>0.893351</td>\n",
       "      <td>0.837554</td>\n",
       "      <td>0.888170</td>\n",
       "    </tr>\n",
       "  </tbody>\n",
       "</table>\n",
       "</div>"
      ],
      "text/plain": [
       "           Default Threshold  0.77 Threshold  0.58 Threshold\n",
       "Accuracy            0.834328        0.780449        0.831739\n",
       "Recall              0.921083        0.751310        0.886954\n",
       "Precision           0.867241        0.946164        0.889389\n",
       "F1                  0.893351        0.837554        0.888170"
      ]
     },
     "execution_count": 141,
     "metadata": {},
     "output_type": "execute_result"
    }
   ],
   "source": [
    "# training performance comparison\n",
    "\n",
    "lg_perf_train = pd.concat(\n",
    "    [\n",
    "        lg_train,\n",
    "        lg_train_thresh1,\n",
    "        lg_train_thresh2\n",
    "    ],\n",
    "    axis=1,\n",
    ")\n",
    "lg_perf_train.columns = [\n",
    "    \"Default Threshold\",\n",
    "    \"0.77 Threshold\",\n",
    "    \"0.58 Threshold\"\n",
    "]\n",
    "print(\"TRAINING PERFORMANCE:\")\n",
    "lg_perf_train"
   ]
  },
  {
   "cell_type": "code",
   "execution_count": 142,
   "id": "superb-split",
   "metadata": {},
   "outputs": [
    {
     "name": "stdout",
     "output_type": "stream",
     "text": [
      "TEST PERFORMANCE:\n"
     ]
    },
    {
     "data": {
      "text/html": [
       "<div>\n",
       "<style scoped>\n",
       "    .dataframe tbody tr th:only-of-type {\n",
       "        vertical-align: middle;\n",
       "    }\n",
       "\n",
       "    .dataframe tbody tr th {\n",
       "        vertical-align: top;\n",
       "    }\n",
       "\n",
       "    .dataframe thead th {\n",
       "        text-align: right;\n",
       "    }\n",
       "</style>\n",
       "<table border=\"1\" class=\"dataframe\">\n",
       "  <thead>\n",
       "    <tr style=\"text-align: right;\">\n",
       "      <th></th>\n",
       "      <th>Default Threshold</th>\n",
       "      <th>0.77 Threshold</th>\n",
       "      <th>0.58 Threshold</th>\n",
       "    </tr>\n",
       "  </thead>\n",
       "  <tbody>\n",
       "    <tr>\n",
       "      <th>Accuracy</th>\n",
       "      <td>0.838980</td>\n",
       "      <td>0.779814</td>\n",
       "      <td>0.831508</td>\n",
       "    </tr>\n",
       "    <tr>\n",
       "      <th>Recall</th>\n",
       "      <td>0.917616</td>\n",
       "      <td>0.752980</td>\n",
       "      <td>0.880927</td>\n",
       "    </tr>\n",
       "    <tr>\n",
       "      <th>Precision</th>\n",
       "      <td>0.879299</td>\n",
       "      <td>0.952102</td>\n",
       "      <td>0.899027</td>\n",
       "    </tr>\n",
       "    <tr>\n",
       "      <th>F1</th>\n",
       "      <td>0.898049</td>\n",
       "      <td>0.840914</td>\n",
       "      <td>0.889885</td>\n",
       "    </tr>\n",
       "  </tbody>\n",
       "</table>\n",
       "</div>"
      ],
      "text/plain": [
       "           Default Threshold  0.77 Threshold  0.58 Threshold\n",
       "Accuracy            0.838980        0.779814        0.831508\n",
       "Recall              0.917616        0.752980        0.880927\n",
       "Precision           0.879299        0.952102        0.899027\n",
       "F1                  0.898049        0.840914        0.889885"
      ]
     },
     "execution_count": 142,
     "metadata": {},
     "output_type": "execute_result"
    }
   ],
   "source": [
    "# testing performance comparison\n",
    "\n",
    "lg_perf_test = pd.concat(\n",
    "    [\n",
    "        lg_test,\n",
    "        lg_test_thresh1,\n",
    "        lg_test_thresh2\n",
    "    ],\n",
    "    axis=1,\n",
    ")\n",
    "lg_perf_test.columns = [\n",
    "    \"Default Threshold\",\n",
    "    \"0.77 Threshold\",\n",
    "    \"0.58 Threshold\"\n",
    "]\n",
    "print(\"TEST PERFORMANCE:\")\n",
    "lg_perf_test"
   ]
  },
  {
   "cell_type": "markdown",
   "id": "increasing-narrow",
   "metadata": {},
   "source": [
    "### Conclusion\n",
    "- We have been able to build a predictive model that can be used by the government to find the citizens having less than 50K salary with an f1_score of 0.89 on the training set and formulate policies accordingly. \n",
    "* Coefficient of age, fnlwgt, education_no_of_years,working_hours_per_week,sex_Male, some levels of education and marital_status, occupation, race and native country are negative, increase in these will lead to decrease in chances of a person having <=50K salary. \n",
    "* Coefficient all the levels of workclass,some levels of occupation, race, native country positive increase in these will lead to increase in chances of a person having <=50K salary."
   ]
  },
  {
   "cell_type": "markdown",
   "id": "greek-houston",
   "metadata": {
    "id": "1KnLoSD0mLQg"
   },
   "source": [
    "### Recommendations\n",
    "\n",
    "- The government should promote education among citizens, they should make policies to make education accessible to all, as we say in our analysis that people who have higher education are more likely to have a salary above 50,000 Dollars. \n",
    "- Working hours is one of the significant predictors of salary, The government should implement laws to ensure that people are paid fairly for their work and are not overworked for the increase in salaries. This would improve work-life balance.\n",
    "- People who invest more are more likely to have a salary above 50k, government should initiate investment schemes and facilitate ease of investment so that people can plan and invest in resources.\n",
    "- As we saw in our analysis that Asian-Pac-Islander and White people are paid more than other races, there should be reforms to ensure that the salary criterion of employees is independent of their race.\n",
    "- Reforms should be made for private-sector employees so that they are paid fairly for their work.\n",
    "- Policy formulated by the government should be considerate of equal pay and counter the pay gap that exists in society."
   ]
  },
  {
   "cell_type": "markdown",
   "id": "elect-aquatic",
   "metadata": {},
   "source": [
    "## Random Forest Classifier"
   ]
  },
  {
   "cell_type": "code",
   "execution_count": 59,
   "id": "541e5ab0",
   "metadata": {},
   "outputs": [],
   "source": [
    "from sklearn.ensemble import RandomForestClassifier\n",
    "from sklearn.svm import SVC"
   ]
  },
  {
   "cell_type": "code",
   "execution_count": 100,
   "id": "2fc1be4d",
   "metadata": {},
   "outputs": [
    {
     "data": {
      "text/plain": [
       "RandomForestClassifier(max_depth=3, n_jobs=-1)"
      ]
     },
     "execution_count": 100,
     "metadata": {},
     "output_type": "execute_result"
    }
   ],
   "source": [
    "rf = RandomForestClassifier(max_depth=3,n_jobs=-1)\n",
    "rf.fit(X_train, y_train)"
   ]
  },
  {
   "cell_type": "code",
   "execution_count": 101,
   "id": "e8cfbc80",
   "metadata": {},
   "outputs": [],
   "source": [
    "# predicting labels\n",
    "y_pred_train = rf.predict(X_train)\n",
    "y_pred_test = rf.predict(X_test)"
   ]
  },
  {
   "cell_type": "code",
   "execution_count": 102,
   "id": "a3b059ce",
   "metadata": {},
   "outputs": [],
   "source": [
    "# predicting probabilities\n",
    "y_prob_train = rf.predict_proba(X_train)[:, 1]\n",
    "y_prob_test = rf.predict_proba(X_test)[:, 1]"
   ]
  },
  {
   "cell_type": "markdown",
   "id": "8087640c",
   "metadata": {},
   "source": [
    "### Model performance with 0.5 threshold"
   ]
  },
  {
   "cell_type": "code",
   "execution_count": 143,
   "id": "57151c62",
   "metadata": {},
   "outputs": [
    {
     "data": {
      "text/html": [
       "<div>\n",
       "<style scoped>\n",
       "    .dataframe tbody tr th:only-of-type {\n",
       "        vertical-align: middle;\n",
       "    }\n",
       "\n",
       "    .dataframe tbody tr th {\n",
       "        vertical-align: top;\n",
       "    }\n",
       "\n",
       "    .dataframe thead th {\n",
       "        text-align: right;\n",
       "    }\n",
       "</style>\n",
       "<table border=\"1\" class=\"dataframe\">\n",
       "  <thead>\n",
       "    <tr style=\"text-align: right;\">\n",
       "      <th></th>\n",
       "      <th>Score</th>\n",
       "    </tr>\n",
       "  </thead>\n",
       "  <tbody>\n",
       "    <tr>\n",
       "      <th>Accuracy</th>\n",
       "      <td>0.784047</td>\n",
       "    </tr>\n",
       "    <tr>\n",
       "      <th>Recall</th>\n",
       "      <td>0.993710</td>\n",
       "    </tr>\n",
       "    <tr>\n",
       "      <th>Precision</th>\n",
       "      <td>0.779941</td>\n",
       "    </tr>\n",
       "    <tr>\n",
       "      <th>F1</th>\n",
       "      <td>0.873944</td>\n",
       "    </tr>\n",
       "  </tbody>\n",
       "</table>\n",
       "</div>"
      ],
      "text/plain": [
       "              Score\n",
       "Accuracy   0.784047\n",
       "Recall     0.993710\n",
       "Precision  0.779941\n",
       "F1         0.873944"
      ]
     },
     "execution_count": 143,
     "metadata": {},
     "output_type": "execute_result"
    }
   ],
   "source": [
    "rf_train = model_performance(y_train, y_prob_train)\n",
    "rf_train"
   ]
  },
  {
   "cell_type": "code",
   "execution_count": 144,
   "id": "467dfa27",
   "metadata": {},
   "outputs": [
    {
     "data": {
      "text/html": [
       "<div>\n",
       "<style scoped>\n",
       "    .dataframe tbody tr th:only-of-type {\n",
       "        vertical-align: middle;\n",
       "    }\n",
       "\n",
       "    .dataframe tbody tr th {\n",
       "        vertical-align: top;\n",
       "    }\n",
       "\n",
       "    .dataframe thead th {\n",
       "        text-align: right;\n",
       "    }\n",
       "</style>\n",
       "<table border=\"1\" class=\"dataframe\">\n",
       "  <thead>\n",
       "    <tr style=\"text-align: right;\">\n",
       "      <th></th>\n",
       "      <th>Score</th>\n",
       "    </tr>\n",
       "  </thead>\n",
       "  <tbody>\n",
       "    <tr>\n",
       "      <th>Accuracy</th>\n",
       "      <td>0.796192</td>\n",
       "    </tr>\n",
       "    <tr>\n",
       "      <th>Recall</th>\n",
       "      <td>0.991126</td>\n",
       "    </tr>\n",
       "    <tr>\n",
       "      <th>Precision</th>\n",
       "      <td>0.795471</td>\n",
       "    </tr>\n",
       "    <tr>\n",
       "      <th>F1</th>\n",
       "      <td>0.882585</td>\n",
       "    </tr>\n",
       "  </tbody>\n",
       "</table>\n",
       "</div>"
      ],
      "text/plain": [
       "              Score\n",
       "Accuracy   0.796192\n",
       "Recall     0.991126\n",
       "Precision  0.795471\n",
       "F1         0.882585"
      ]
     },
     "execution_count": 144,
     "metadata": {},
     "output_type": "execute_result"
    }
   ],
   "source": [
    "rf_test = model_performance(y_test, y_prob_test)\n",
    "rf_test"
   ]
  },
  {
   "cell_type": "markdown",
   "id": "6cd65429",
   "metadata": {},
   "source": [
    "### Finding Optimal threshold using AUC-ROC curve"
   ]
  },
  {
   "cell_type": "code",
   "execution_count": 136,
   "id": "0a7e4773",
   "metadata": {},
   "outputs": [
    {
     "data": {
      "image/png": "[encoded data removed]",
      "text/plain": [
       "<Figure size 720x432 with 2 Axes>"
      ]
     },
     "metadata": {
      "needs_background": "light"
     },
     "output_type": "display_data"
    }
   ],
   "source": [
    "plt.figure(figsize = (10,6))\n",
    "\n",
    "plt.subplot(1,2,1)\n",
    "logit_roc_auc_train = roc_auc_score(y_train, y_prob_train)\n",
    "fpr, tpr, thresholds = roc_curve(y_train, y_prob_train)\n",
    "plt.plot(fpr, tpr, label=\"Logistic Regression (area = %0.2f)\" % logit_roc_auc_train)\n",
    "plt.plot([0, 1], [0, 1], \"r--\")\n",
    "plt.xlim([0.0, 1.0])\n",
    "plt.ylim([0.0, 1.05])\n",
    "plt.xlabel(\"False Positive Rate\")\n",
    "plt.ylabel(\"True Positive Rate\")\n",
    "plt.title(\"TRAIN ROC\")\n",
    "plt.legend(loc=\"lower right\")\n",
    "\n",
    "plt.subplot(1,2,2)\n",
    "logit_roc_auc_test = roc_auc_score(y_test, y_prob_test)\n",
    "fpr, tpr, thresholds = roc_curve(y_test, y_prob_test)\n",
    "plt.plot(fpr, tpr, label=\"Logistic Regression (area = %0.2f)\" % logit_roc_auc_test)\n",
    "plt.plot([0, 1], [0, 1], \"r--\")\n",
    "plt.xlim([0.0, 1.0])\n",
    "plt.ylim([0.0, 1.05])\n",
    "plt.xlabel(\"False Positive Rate\")\n",
    "plt.title(\"TEST ROC\")\n",
    "plt.legend(loc=\"lower right\")\n",
    "plt.show()"
   ]
  },
  {
   "cell_type": "code",
   "execution_count": 125,
   "id": "69613d2b",
   "metadata": {},
   "outputs": [
    {
     "name": "stdout",
     "output_type": "stream",
     "text": [
      "0.6912218455195499\n"
     ]
    }
   ],
   "source": [
    "fpr, tpr, thresholds = roc_curve(y_train, y_prob_train)\n",
    "\n",
    "optimal_idx = np.argmax(tpr - fpr)\n",
    "optimal_threshold_auc_roc = thresholds[optimal_idx]\n",
    "print(optimal_threshold_auc_roc)"
   ]
  },
  {
   "cell_type": "markdown",
   "id": "b6a4dd81",
   "metadata": {},
   "source": [
    "### Model performance with 0.6912 threshold"
   ]
  },
  {
   "cell_type": "code",
   "execution_count": 151,
   "id": "1dbf4c9a",
   "metadata": {},
   "outputs": [
    {
     "data": {
      "text/html": [
       "<div>\n",
       "<style scoped>\n",
       "    .dataframe tbody tr th:only-of-type {\n",
       "        vertical-align: middle;\n",
       "    }\n",
       "\n",
       "    .dataframe tbody tr th {\n",
       "        vertical-align: top;\n",
       "    }\n",
       "\n",
       "    .dataframe thead th {\n",
       "        text-align: right;\n",
       "    }\n",
       "</style>\n",
       "<table border=\"1\" class=\"dataframe\">\n",
       "  <thead>\n",
       "    <tr style=\"text-align: right;\">\n",
       "      <th></th>\n",
       "      <th>Score</th>\n",
       "    </tr>\n",
       "  </thead>\n",
       "  <tbody>\n",
       "    <tr>\n",
       "      <th>Accuracy</th>\n",
       "      <td>0.795016</td>\n",
       "    </tr>\n",
       "    <tr>\n",
       "      <th>Recall</th>\n",
       "      <td>0.804718</td>\n",
       "    </tr>\n",
       "    <tr>\n",
       "      <th>Precision</th>\n",
       "      <td>0.912857</td>\n",
       "    </tr>\n",
       "    <tr>\n",
       "      <th>F1</th>\n",
       "      <td>0.855383</td>\n",
       "    </tr>\n",
       "  </tbody>\n",
       "</table>\n",
       "</div>"
      ],
      "text/plain": [
       "              Score\n",
       "Accuracy   0.795016\n",
       "Recall     0.804718\n",
       "Precision  0.912857\n",
       "F1         0.855383"
      ]
     },
     "execution_count": 151,
     "metadata": {},
     "output_type": "execute_result"
    }
   ],
   "source": [
    "rf_train_thresh1 = model_performance(y_train, y_prob_train, threshold=0.6912)\n",
    "rf_train_thresh1"
   ]
  },
  {
   "cell_type": "code",
   "execution_count": 152,
   "id": "c173218e",
   "metadata": {},
   "outputs": [
    {
     "data": {
      "text/html": [
       "<div>\n",
       "<style scoped>\n",
       "    .dataframe tbody tr th:only-of-type {\n",
       "        vertical-align: middle;\n",
       "    }\n",
       "\n",
       "    .dataframe tbody tr th {\n",
       "        vertical-align: top;\n",
       "    }\n",
       "\n",
       "    .dataframe thead th {\n",
       "        text-align: right;\n",
       "    }\n",
       "</style>\n",
       "<table border=\"1\" class=\"dataframe\">\n",
       "  <thead>\n",
       "    <tr style=\"text-align: right;\">\n",
       "      <th></th>\n",
       "      <th>Score</th>\n",
       "    </tr>\n",
       "  </thead>\n",
       "  <tbody>\n",
       "    <tr>\n",
       "      <th>Accuracy</th>\n",
       "      <td>0.789538</td>\n",
       "    </tr>\n",
       "    <tr>\n",
       "      <th>Recall</th>\n",
       "      <td>0.797086</td>\n",
       "    </tr>\n",
       "    <tr>\n",
       "      <th>Precision</th>\n",
       "      <td>0.919902</td>\n",
       "    </tr>\n",
       "    <tr>\n",
       "      <th>F1</th>\n",
       "      <td>0.854102</td>\n",
       "    </tr>\n",
       "  </tbody>\n",
       "</table>\n",
       "</div>"
      ],
      "text/plain": [
       "              Score\n",
       "Accuracy   0.789538\n",
       "Recall     0.797086\n",
       "Precision  0.919902\n",
       "F1         0.854102"
      ]
     },
     "execution_count": 152,
     "metadata": {},
     "output_type": "execute_result"
    }
   ],
   "source": [
    "rf_test_thresh1 = model_performance(y_test, y_prob_test, threshold=0.6912)\n",
    "rf_test_thresh1"
   ]
  },
  {
   "cell_type": "markdown",
   "id": "48e0a076",
   "metadata": {},
   "source": [
    "### Finding Optimal threshold using Precision-Recall curve"
   ]
  },
  {
   "cell_type": "code",
   "execution_count": 129,
   "id": "705e8e9e",
   "metadata": {},
   "outputs": [
    {
     "data": {
      "image/png": "[encoded data removed]",
      "text/plain": [
       "<Figure size 576x432 with 1 Axes>"
      ]
     },
     "metadata": {
      "needs_background": "light"
     },
     "output_type": "display_data"
    }
   ],
   "source": [
    "prec, rec, tre = precision_recall_curve(y_train,y_prob_train)\n",
    "\n",
    "\n",
    "def plot_prec_recall_vs_tresh(precisions, recalls, thresholds):\n",
    "    plt.plot(thresholds, precisions[:-1], \"b--\", label=\"precision\")\n",
    "    plt.plot(thresholds, recalls[:-1], \"g--\", label=\"recall\")\n",
    "    plt.xlabel(\"Threshold\")\n",
    "    plt.legend(loc=\"upper left\")\n",
    "    plt.ylim([0, 1])\n",
    "\n",
    "\n",
    "plt.figure(figsize=(8, 6))\n",
    "plot_prec_recall_vs_tresh(prec, rec, tre)\n",
    "plt.show()"
   ]
  },
  {
   "cell_type": "markdown",
   "id": "5f7bd796",
   "metadata": {},
   "source": [
    "### Model performance with 0.66 threshold"
   ]
  },
  {
   "cell_type": "code",
   "execution_count": 153,
   "id": "1ef11bb0",
   "metadata": {},
   "outputs": [
    {
     "data": {
      "text/html": [
       "<div>\n",
       "<style scoped>\n",
       "    .dataframe tbody tr th:only-of-type {\n",
       "        vertical-align: middle;\n",
       "    }\n",
       "\n",
       "    .dataframe tbody tr th {\n",
       "        vertical-align: top;\n",
       "    }\n",
       "\n",
       "    .dataframe thead th {\n",
       "        text-align: right;\n",
       "    }\n",
       "</style>\n",
       "<table border=\"1\" class=\"dataframe\">\n",
       "  <thead>\n",
       "    <tr style=\"text-align: right;\">\n",
       "      <th></th>\n",
       "      <th>Score</th>\n",
       "    </tr>\n",
       "  </thead>\n",
       "  <tbody>\n",
       "    <tr>\n",
       "      <th>Accuracy</th>\n",
       "      <td>0.818928</td>\n",
       "    </tr>\n",
       "    <tr>\n",
       "      <th>Recall</th>\n",
       "      <td>0.887595</td>\n",
       "    </tr>\n",
       "    <tr>\n",
       "      <th>Precision</th>\n",
       "      <td>0.874004</td>\n",
       "    </tr>\n",
       "    <tr>\n",
       "      <th>F1</th>\n",
       "      <td>0.880747</td>\n",
       "    </tr>\n",
       "  </tbody>\n",
       "</table>\n",
       "</div>"
      ],
      "text/plain": [
       "              Score\n",
       "Accuracy   0.818928\n",
       "Recall     0.887595\n",
       "Precision  0.874004\n",
       "F1         0.880747"
      ]
     },
     "execution_count": 153,
     "metadata": {},
     "output_type": "execute_result"
    }
   ],
   "source": [
    "rf_train_thresh2 = model_performance(y_train, y_prob_train, threshold=0.66)\n",
    "rf_train_thresh2"
   ]
  },
  {
   "cell_type": "code",
   "execution_count": 154,
   "id": "a30e4952",
   "metadata": {},
   "outputs": [
    {
     "data": {
      "text/html": [
       "<div>\n",
       "<style scoped>\n",
       "    .dataframe tbody tr th:only-of-type {\n",
       "        vertical-align: middle;\n",
       "    }\n",
       "\n",
       "    .dataframe tbody tr th {\n",
       "        vertical-align: top;\n",
       "    }\n",
       "\n",
       "    .dataframe thead th {\n",
       "        text-align: right;\n",
       "    }\n",
       "</style>\n",
       "<table border=\"1\" class=\"dataframe\">\n",
       "  <thead>\n",
       "    <tr style=\"text-align: right;\">\n",
       "      <th></th>\n",
       "      <th>Score</th>\n",
       "    </tr>\n",
       "  </thead>\n",
       "  <tbody>\n",
       "    <tr>\n",
       "      <th>Accuracy</th>\n",
       "      <td>0.817484</td>\n",
       "    </tr>\n",
       "    <tr>\n",
       "      <th>Recall</th>\n",
       "      <td>0.879338</td>\n",
       "    </tr>\n",
       "    <tr>\n",
       "      <th>Precision</th>\n",
       "      <td>0.883904</td>\n",
       "    </tr>\n",
       "    <tr>\n",
       "      <th>F1</th>\n",
       "      <td>0.881615</td>\n",
       "    </tr>\n",
       "  </tbody>\n",
       "</table>\n",
       "</div>"
      ],
      "text/plain": [
       "              Score\n",
       "Accuracy   0.817484\n",
       "Recall     0.879338\n",
       "Precision  0.883904\n",
       "F1         0.881615"
      ]
     },
     "execution_count": 154,
     "metadata": {},
     "output_type": "execute_result"
    }
   ],
   "source": [
    "rf_test_thresh2 = model_performance(y_test, y_prob_test, threshold=0.66)\n",
    "rf_test_thresh2"
   ]
  },
  {
   "cell_type": "code",
   "execution_count": 158,
   "id": "9b6bcd75",
   "metadata": {},
   "outputs": [
    {
     "name": "stdout",
     "output_type": "stream",
     "text": [
      "TRAINING PERFORMANCE:\n"
     ]
    },
    {
     "data": {
      "text/html": [
       "<div>\n",
       "<style scoped>\n",
       "    .dataframe tbody tr th:only-of-type {\n",
       "        vertical-align: middle;\n",
       "    }\n",
       "\n",
       "    .dataframe tbody tr th {\n",
       "        vertical-align: top;\n",
       "    }\n",
       "\n",
       "    .dataframe thead th {\n",
       "        text-align: right;\n",
       "    }\n",
       "</style>\n",
       "<table border=\"1\" class=\"dataframe\">\n",
       "  <thead>\n",
       "    <tr style=\"text-align: right;\">\n",
       "      <th></th>\n",
       "      <th>Default Threshold</th>\n",
       "      <th>0.69 Threshold</th>\n",
       "      <th>0.66 Threshold</th>\n",
       "    </tr>\n",
       "  </thead>\n",
       "  <tbody>\n",
       "    <tr>\n",
       "      <th>Accuracy</th>\n",
       "      <td>0.784047</td>\n",
       "      <td>0.795016</td>\n",
       "      <td>0.818928</td>\n",
       "    </tr>\n",
       "    <tr>\n",
       "      <th>Recall</th>\n",
       "      <td>0.993710</td>\n",
       "      <td>0.804718</td>\n",
       "      <td>0.887595</td>\n",
       "    </tr>\n",
       "    <tr>\n",
       "      <th>Precision</th>\n",
       "      <td>0.779941</td>\n",
       "      <td>0.912857</td>\n",
       "      <td>0.874004</td>\n",
       "    </tr>\n",
       "    <tr>\n",
       "      <th>F1</th>\n",
       "      <td>0.873944</td>\n",
       "      <td>0.855383</td>\n",
       "      <td>0.880747</td>\n",
       "    </tr>\n",
       "  </tbody>\n",
       "</table>\n",
       "</div>"
      ],
      "text/plain": [
       "           Default Threshold  0.69 Threshold  0.66 Threshold\n",
       "Accuracy            0.784047        0.795016        0.818928\n",
       "Recall              0.993710        0.804718        0.887595\n",
       "Precision           0.779941        0.912857        0.874004\n",
       "F1                  0.873944        0.855383        0.880747"
      ]
     },
     "execution_count": 158,
     "metadata": {},
     "output_type": "execute_result"
    }
   ],
   "source": [
    "# training performance comparison\n",
    "\n",
    "rf_perf_train = pd.concat(\n",
    "    [\n",
    "        rf_train,\n",
    "        rf_train_thresh1,\n",
    "        rf_train_thresh2\n",
    "    ],\n",
    "    axis=1,\n",
    ")\n",
    "rf_perf_train.columns = [\n",
    "    \"Default Threshold\",\n",
    "    \"0.69 Threshold\",\n",
    "    \"0.66 Threshold\"\n",
    "]\n",
    "print(\"TRAINING PERFORMANCE:\")\n",
    "rf_perf_train"
   ]
  },
  {
   "cell_type": "code",
   "execution_count": 159,
   "id": "11cf1e90",
   "metadata": {},
   "outputs": [
    {
     "name": "stdout",
     "output_type": "stream",
     "text": [
      "TEST PERFORMANCE:\n"
     ]
    },
    {
     "data": {
      "text/html": [
       "<div>\n",
       "<style scoped>\n",
       "    .dataframe tbody tr th:only-of-type {\n",
       "        vertical-align: middle;\n",
       "    }\n",
       "\n",
       "    .dataframe tbody tr th {\n",
       "        vertical-align: top;\n",
       "    }\n",
       "\n",
       "    .dataframe thead th {\n",
       "        text-align: right;\n",
       "    }\n",
       "</style>\n",
       "<table border=\"1\" class=\"dataframe\">\n",
       "  <thead>\n",
       "    <tr style=\"text-align: right;\">\n",
       "      <th></th>\n",
       "      <th>Default Threshold</th>\n",
       "      <th>0.69 Threshold</th>\n",
       "      <th>0.66 Threshold</th>\n",
       "    </tr>\n",
       "  </thead>\n",
       "  <tbody>\n",
       "    <tr>\n",
       "      <th>Accuracy</th>\n",
       "      <td>0.796192</td>\n",
       "      <td>0.789538</td>\n",
       "      <td>0.817484</td>\n",
       "    </tr>\n",
       "    <tr>\n",
       "      <th>Recall</th>\n",
       "      <td>0.991126</td>\n",
       "      <td>0.797086</td>\n",
       "      <td>0.879338</td>\n",
       "    </tr>\n",
       "    <tr>\n",
       "      <th>Precision</th>\n",
       "      <td>0.795471</td>\n",
       "      <td>0.919902</td>\n",
       "      <td>0.883904</td>\n",
       "    </tr>\n",
       "    <tr>\n",
       "      <th>F1</th>\n",
       "      <td>0.882585</td>\n",
       "      <td>0.854102</td>\n",
       "      <td>0.881615</td>\n",
       "    </tr>\n",
       "  </tbody>\n",
       "</table>\n",
       "</div>"
      ],
      "text/plain": [
       "           Default Threshold  0.69 Threshold  0.66 Threshold\n",
       "Accuracy            0.796192        0.789538        0.817484\n",
       "Recall              0.991126        0.797086        0.879338\n",
       "Precision           0.795471        0.919902        0.883904\n",
       "F1                  0.882585        0.854102        0.881615"
      ]
     },
     "execution_count": 159,
     "metadata": {},
     "output_type": "execute_result"
    }
   ],
   "source": [
    "# Test performance comparison\n",
    "\n",
    "rf_perf_test = pd.concat(\n",
    "    [\n",
    "        rf_test,\n",
    "        rf_test_thresh1,\n",
    "        rf_test_thresh2\n",
    "    ],\n",
    "    axis=1,\n",
    ")\n",
    "rf_perf_test.columns = [\n",
    "    \"Default Threshold\",\n",
    "    \"0.69 Threshold\",\n",
    "    \"0.66 Threshold\"\n",
    "]\n",
    "print(\"TEST PERFORMANCE:\")\n",
    "rf_perf_test"
   ]
  },
  {
   "cell_type": "markdown",
   "id": "1eb06d4a",
   "metadata": {},
   "source": [
    "# COMPARING MODEL PERFORMANCE"
   ]
  },
  {
   "cell_type": "code",
   "execution_count": 160,
   "id": "42da59f5",
   "metadata": {},
   "outputs": [
    {
     "data": {
      "text/html": [
       "<div>\n",
       "<style scoped>\n",
       "    .dataframe tbody tr th:only-of-type {\n",
       "        vertical-align: middle;\n",
       "    }\n",
       "\n",
       "    .dataframe tbody tr th {\n",
       "        vertical-align: top;\n",
       "    }\n",
       "\n",
       "    .dataframe thead th {\n",
       "        text-align: right;\n",
       "    }\n",
       "</style>\n",
       "<table border=\"1\" class=\"dataframe\">\n",
       "  <thead>\n",
       "    <tr style=\"text-align: right;\">\n",
       "      <th></th>\n",
       "      <th>Default Threshold</th>\n",
       "      <th>0.69 Threshold</th>\n",
       "      <th>0.66 Threshold</th>\n",
       "    </tr>\n",
       "  </thead>\n",
       "  <tbody>\n",
       "    <tr>\n",
       "      <th>Accuracy</th>\n",
       "      <td>0.796192</td>\n",
       "      <td>0.789538</td>\n",
       "      <td>0.817484</td>\n",
       "    </tr>\n",
       "    <tr>\n",
       "      <th>Recall</th>\n",
       "      <td>0.991126</td>\n",
       "      <td>0.797086</td>\n",
       "      <td>0.879338</td>\n",
       "    </tr>\n",
       "    <tr>\n",
       "      <th>Precision</th>\n",
       "      <td>0.795471</td>\n",
       "      <td>0.919902</td>\n",
       "      <td>0.883904</td>\n",
       "    </tr>\n",
       "    <tr>\n",
       "      <th>F1</th>\n",
       "      <td>0.882585</td>\n",
       "      <td>0.854102</td>\n",
       "      <td>0.881615</td>\n",
       "    </tr>\n",
       "  </tbody>\n",
       "</table>\n",
       "</div>"
      ],
      "text/plain": [
       "           Default Threshold  0.69 Threshold  0.66 Threshold\n",
       "Accuracy            0.796192        0.789538        0.817484\n",
       "Recall              0.991126        0.797086        0.879338\n",
       "Precision           0.795471        0.919902        0.883904\n",
       "F1                  0.882585        0.854102        0.881615"
      ]
     },
     "execution_count": 160,
     "metadata": {},
     "output_type": "execute_result"
    }
   ],
   "source": [
    "rf_perf_test"
   ]
  },
  {
   "cell_type": "code",
   "execution_count": 161,
   "id": "d927fbc3",
   "metadata": {},
   "outputs": [
    {
     "data": {
      "text/html": [
       "<div>\n",
       "<style scoped>\n",
       "    .dataframe tbody tr th:only-of-type {\n",
       "        vertical-align: middle;\n",
       "    }\n",
       "\n",
       "    .dataframe tbody tr th {\n",
       "        vertical-align: top;\n",
       "    }\n",
       "\n",
       "    .dataframe thead th {\n",
       "        text-align: right;\n",
       "    }\n",
       "</style>\n",
       "<table border=\"1\" class=\"dataframe\">\n",
       "  <thead>\n",
       "    <tr style=\"text-align: right;\">\n",
       "      <th></th>\n",
       "      <th>Default Threshold</th>\n",
       "      <th>0.77 Threshold</th>\n",
       "      <th>0.58 Threshold</th>\n",
       "    </tr>\n",
       "  </thead>\n",
       "  <tbody>\n",
       "    <tr>\n",
       "      <th>Accuracy</th>\n",
       "      <td>0.838980</td>\n",
       "      <td>0.779814</td>\n",
       "      <td>0.831508</td>\n",
       "    </tr>\n",
       "    <tr>\n",
       "      <th>Recall</th>\n",
       "      <td>0.917616</td>\n",
       "      <td>0.752980</td>\n",
       "      <td>0.880927</td>\n",
       "    </tr>\n",
       "    <tr>\n",
       "      <th>Precision</th>\n",
       "      <td>0.879299</td>\n",
       "      <td>0.952102</td>\n",
       "      <td>0.899027</td>\n",
       "    </tr>\n",
       "    <tr>\n",
       "      <th>F1</th>\n",
       "      <td>0.898049</td>\n",
       "      <td>0.840914</td>\n",
       "      <td>0.889885</td>\n",
       "    </tr>\n",
       "  </tbody>\n",
       "</table>\n",
       "</div>"
      ],
      "text/plain": [
       "           Default Threshold  0.77 Threshold  0.58 Threshold\n",
       "Accuracy            0.838980        0.779814        0.831508\n",
       "Recall              0.917616        0.752980        0.880927\n",
       "Precision           0.879299        0.952102        0.899027\n",
       "F1                  0.898049        0.840914        0.889885"
      ]
     },
     "execution_count": 161,
     "metadata": {},
     "output_type": "execute_result"
    }
   ],
   "source": [
    "lg_perf_test"
   ]
  },
  {
   "cell_type": "markdown",
   "id": "5d692b6c",
   "metadata": {},
   "source": [
    "As we can compare the test performance of both the models, we can see that Logistic Regression outperforms the Random Forest Model in terms of the F1-score"
   ]
  },
  {
   "cell_type": "code",
   "execution_count": null,
   "id": "bfc2b153",
   "metadata": {},
   "outputs": [],
   "source": []
  },
  {
   "cell_type": "code",
   "execution_count": null,
   "id": "fbea07ec",
   "metadata": {},
   "outputs": [],
   "source": []
  },
  {
   "cell_type": "code",
   "execution_count": null,
   "id": "1a7a1563",
   "metadata": {},
   "outputs": [],
   "source": []
  },
  {
   "cell_type": "code",
   "execution_count": null,
   "id": "8e4e575b",
   "metadata": {},
   "outputs": [],
   "source": []
  }
 ],
 "metadata": {
  "kernelspec": {
   "display_name": "Python 3 (ipykernel)",
   "language": "python",
   "name": "python3"
  },
  "language_info": {
   "codemirror_mode": {
    "name": "ipython",
    "version": 3
   },
   "file_extension": ".py",
   "mimetype": "text/x-python",
   "name": "python",
   "nbconvert_exporter": "python",
   "pygments_lexer": "ipython3",
   "version": "3.9.7"
  }
 },
 "nbformat": 4,
 "nbformat_minor": 5
}
